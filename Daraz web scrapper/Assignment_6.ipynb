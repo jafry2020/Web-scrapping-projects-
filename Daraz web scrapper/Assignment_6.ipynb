{
  "cells": [
    {
      "cell_type": "markdown",
      "metadata": {
        "id": "RNyFdIkrSKdK"
      },
      "source": [
        "# Name: Hasnain Jafri\n",
        "# Roll No.: k21-3116\n",
        "# Assignment 6"
      ]
    },
    {
      "cell_type": "markdown",
      "metadata": {
        "id": "FXnhsqSKSKdP"
      },
      "source": [
        "# Instruction"
      ]
    },
    {
      "cell_type": "markdown",
      "metadata": {
        "id": "vdPJij2qSKdQ"
      },
      "source": [
        "1. Don’t plagiarize, Plagiarism would lead to straight zero\n",
        "2. Clearly mention your NAME and ROLL NO#.\n",
        "3. Late submissions are not allowed. Start Early."
      ]
    },
    {
      "cell_type": "code",
      "execution_count": null,
      "metadata": {
        "id": "PsdPoMNZSKdf"
      },
      "outputs": [],
      "source": [
        "#import libraries\n",
        "import time\n",
        "import pandas as pd\n",
        "import re\n",
        "from selenium import webdriver\n",
        "from selenium.webdriver.edge.options import Options\n",
        "from selenium.webdriver.common.keys import Keys\n",
        "# from webdriver_manager.chrome import ChromeDriverManager\n",
        "from selenium.webdriver.common.by import By\n",
        "from selenium.common.exceptions import NoSuchElementException"
      ]
    },
    {
      "cell_type": "markdown",
      "metadata": {
        "id": "7zUMnoJeSKdf"
      },
      "source": [
        "# Question 1  (10 marks)"
      ]
    },
    {
      "cell_type": "markdown",
      "metadata": {
        "id": "wz5KTI6rSKdg"
      },
      "source": [
        "Scrape 3 pages of reviews for a single product listing using product URL.<br /> Note: Product must have more than 1 review page. The code must be generic and should work for every product listing URL, with proper checks in place."
      ]
    },
    {
      "cell_type": "code",
      "execution_count": null,
      "metadata": {
        "id": "l1kyPBYeSKdg",
        "outputId": "9e561b3d-ce08-4060-96db-6b91fc83c927"
      },
      "outputs": [
        {
          "name": "stderr",
          "output_type": "stream",
          "text": [
            "C:\\Users\\user\\AppData\\Local\\Temp\\ipykernel_6752\\3590681886.py:2: DeprecationWarning: executable_path has been deprecated, please pass in a Service object\n",
            "  driver=webdriver.Chrome(r\"C:\\Users\\chromedriver.exe\")\n"
          ]
        }
      ],
      "source": [
        "url = 'https://www.daraz.pk/products/11-11s-6d-i273278323-s1486421563.html?spm=a2a0e.searchlist.list.7.7ea8287diNVN5g&search=1'\n",
        "driver=webdriver.Chrome(r\"C:\\Users\\chromedriver.exe\")\n",
        "driver.get(url)"
      ]
    },
    {
      "cell_type": "code",
      "execution_count": null,
      "metadata": {
        "id": "xivxfqdrSKdg"
      },
      "outputs": [],
      "source": [
        "Name=[]\n",
        "ReviewText=[]\n",
        "allt=driver.find_element(\"id\", \"container\")\n",
        "from selenium.webdriver.common.action_chains import ActionChains\n",
        "actions = ActionChains(driver)"
      ]
    },
    {
      "cell_type": "code",
      "execution_count": null,
      "metadata": {
        "id": "1sB34tCTSKdh"
      },
      "outputs": [],
      "source": [
        "# reviews= allt.find_element(By.CLASS_NAME,\"mod-reviews\").find_elements(By.CLASS_NAME, \"item\")"
      ]
    },
    {
      "cell_type": "code",
      "execution_count": null,
      "metadata": {
        "id": "cBfG89_1SKdh"
      },
      "outputs": [],
      "source": [
        "# for review in reviews:\n",
        "#     Name.append(review.find_element(By.CLASS_NAME, \"middle\").text.strip('Verified Purchase').strip('by'))\n",
        "#     ReviewText.append(review.find_element(By.CLASS_NAME, \"content\").text)\n",
        "\n"
      ]
    },
    {
      "cell_type": "code",
      "execution_count": null,
      "metadata": {
        "id": "CfMnd6JASKdh"
      },
      "outputs": [],
      "source": [
        "from selenium.webdriver.common.action_chains import ActionChains\n",
        "actions = ActionChains(driver)"
      ]
    },
    {
      "cell_type": "code",
      "execution_count": null,
      "metadata": {
        "id": "v9rzP0QxSKdh"
      },
      "outputs": [],
      "source": [
        "# #click not intrested\n",
        "# notintrested=allt.find_element(By.XPATH, '/html/body/div[7]//div/div/div[3]/button[1]')\n",
        "# notintrested.click()\n",
        "driver.execute_script('window.scroll(0,1500)')\n",
        "time.sleep(2)\n",
        "nextpage= allt.find_element(By.XPATH, \"/html/body/div[4]/div/div[9]/div[1]/div[2]/div/div/div/div[3]/div[2]/div/button[2]\")\n",
        "time.sleep(3)\n",
        "for i in range(3):\n",
        "    driver.execute_script('window.scroll(0,2000)')\n",
        "    time.sleep(2)\n",
        "    reviews= allt.find_element(By.CLASS_NAME,\"mod-reviews\").find_elements(By.CLASS_NAME, \"item\")\n",
        "    for review in reviews:\n",
        "        try:\n",
        "            Name.append(review.find_element(By.CLASS_NAME, \"middle\").text.strip('Verified Purchase').strip('by'))\n",
        "        except:\n",
        "            Name.append(\"-\")\n",
        "        try:\n",
        "            ReviewText.append(review.find_element(By.CLASS_NAME, \"content\").text)\n",
        "        except:\n",
        "            ReviewText.append(\"-\")\n",
        "    #scrll to the next\n",
        "    actions.move_to_element(nextpage).perform()\n",
        "    time.sleep(3)\n",
        "    allt.find_element(By.XPATH, \"/html/body/div[4]/div/div[9]/div[1]/div[2]/div/div/div/div[3]/div[2]/div/button[2]\").click()"
      ]
    },
    {
      "cell_type": "code",
      "execution_count": null,
      "metadata": {
        "id": "swtwChhfSKdi"
      },
      "outputs": [],
      "source": [
        "rev={}\n",
        "rev[\"Name\"]=Name\n",
        "rev[\"Review text\"]=ReviewText\n",
        "frame=pd.DataFrame.from_dict(rev)"
      ]
    },
    {
      "cell_type": "code",
      "execution_count": null,
      "metadata": {
        "id": "1PyMyc7ZSKdi",
        "outputId": "e5480dbc-7f90-4fb0-f98c-c8f4f1368ea4"
      },
      "outputs": [
        {
          "data": {
            "text/html": [
              "<div>\n",
              "<style scoped>\n",
              "    .dataframe tbody tr th:only-of-type {\n",
              "        vertical-align: middle;\n",
              "    }\n",
              "\n",
              "    .dataframe tbody tr th {\n",
              "        vertical-align: top;\n",
              "    }\n",
              "\n",
              "    .dataframe thead th {\n",
              "        text-align: right;\n",
              "    }\n",
              "</style>\n",
              "<table border=\"1\" class=\"dataframe\">\n",
              "  <thead>\n",
              "    <tr style=\"text-align: right;\">\n",
              "      <th></th>\n",
              "      <th>Name</th>\n",
              "      <th>Review text</th>\n",
              "    </tr>\n",
              "  </thead>\n",
              "  <tbody>\n",
              "    <tr>\n",
              "      <th>0</th>\n",
              "      <td>Talal A.</td>\n",
              "      <td>bht zbrdrst hai same too same ju pic me thaaa ...</td>\n",
              "    </tr>\n",
              "    <tr>\n",
              "      <th>1</th>\n",
              "      <td>SAQLAIN J.</td>\n",
              "      <td>wah kya BAAT hai yarr both pyaara hai cover 🥰🥰...</td>\n",
              "    </tr>\n",
              "    <tr>\n",
              "      <th>2</th>\n",
              "      <td>3***8</td>\n",
              "      <td>salam daraz jb bi apse mobile cover magwaya hn...</td>\n",
              "    </tr>\n",
              "    <tr>\n",
              "      <th>3</th>\n",
              "      <td>3***7</td>\n",
              "      <td>Cover is so nice.. Same as it was shown. Nice ...</td>\n",
              "    </tr>\n",
              "    <tr>\n",
              "      <th>4</th>\n",
              "      <td>Moin A.</td>\n",
              "      <td>bhht hi acha cover h takreebn 1 month bd mila ...</td>\n",
              "    </tr>\n",
              "    <tr>\n",
              "      <th>5</th>\n",
              "      <td>*******546</td>\n",
              "      <td>very beautiful product😍\\nand quality is good 💯</td>\n",
              "    </tr>\n",
              "    <tr>\n",
              "      <th>6</th>\n",
              "      <td>0***2</td>\n",
              "      <td>Ya dykh lay upr say Kya how hai</td>\n",
              "    </tr>\n",
              "    <tr>\n",
              "      <th>7</th>\n",
              "      <td>Sulaimanjan</td>\n",
              "      <td>Thank you very much, I will lay it out, may Go...</td>\n",
              "    </tr>\n",
              "    <tr>\n",
              "      <th>8</th>\n",
              "      <td>Diya C.</td>\n",
              "      <td>Dnt buy ds cover..its Dhoka..</td>\n",
              "    </tr>\n",
              "    <tr>\n",
              "      <th>9</th>\n",
              "      <td>Saleem S.</td>\n",
              "      <td>Best quality and most adorable\\nhighly recomme...</td>\n",
              "    </tr>\n",
              "    <tr>\n",
              "      <th>10</th>\n",
              "      <td>Abbas R.</td>\n",
              "      <td>10/8 rating</td>\n",
              "    </tr>\n",
              "    <tr>\n",
              "      <th>11</th>\n",
              "      <td>*******918</td>\n",
              "      <td>this mobile cover is awesome and beautiful</td>\n",
              "    </tr>\n",
              "    <tr>\n",
              "      <th>12</th>\n",
              "      <td>Ehtisham A.</td>\n",
              "      <td>Mashallah boht acha piece nikla thanks sir</td>\n",
              "    </tr>\n",
              "    <tr>\n",
              "      <th>13</th>\n",
              "      <td>0***3</td>\n",
              "      <td>Nice cover billkul fit Aya hai jazakallah</td>\n",
              "    </tr>\n",
              "    <tr>\n",
              "      <th>14</th>\n",
              "      <td>****9</td>\n",
              "      <td>i like it very much</td>\n",
              "    </tr>\n",
              "  </tbody>\n",
              "</table>\n",
              "</div>"
            ],
            "text/plain": [
              "            Name                                        Review text\n",
              "0       Talal A.  bht zbrdrst hai same too same ju pic me thaaa ...\n",
              "1     SAQLAIN J.  wah kya BAAT hai yarr both pyaara hai cover 🥰🥰...\n",
              "2          3***8  salam daraz jb bi apse mobile cover magwaya hn...\n",
              "3          3***7  Cover is so nice.. Same as it was shown. Nice ...\n",
              "4        Moin A.  bhht hi acha cover h takreebn 1 month bd mila ...\n",
              "5     *******546     very beautiful product😍\\nand quality is good 💯\n",
              "6          0***2                   Ya dykh lay upr say Kya how hai \n",
              "7    Sulaimanjan  Thank you very much, I will lay it out, may Go...\n",
              "8        Diya C.                      Dnt buy ds cover..its Dhoka..\n",
              "9      Saleem S.  Best quality and most adorable\\nhighly recomme...\n",
              "10      Abbas R.                                       10/8 rating \n",
              "11    *******918        this mobile cover is awesome and beautiful \n",
              "12   Ehtisham A.         Mashallah boht acha piece nikla thanks sir\n",
              "13         0***3          Nice cover billkul fit Aya hai jazakallah\n",
              "14         ****9                                i like it very much"
            ]
          },
          "execution_count": 105,
          "metadata": {},
          "output_type": "execute_result"
        }
      ],
      "source": [
        "#Output\n",
        "frame"
      ]
    },
    {
      "cell_type": "markdown",
      "metadata": {
        "id": "ZJZRzTm-SKdi"
      },
      "source": [
        "### Question 1 Part b  (10 marks)"
      ]
    },
    {
      "cell_type": "markdown",
      "metadata": {
        "id": "6E_uV379SKdj"
      },
      "source": [
        "Clean the Reviews using NLTK,RE. Remove Punctuations, Smilies and other garbage using any library.\n",
        "\n",
        "Apply Vader Sentiment to find the sentiment of the review, and append it in a column named \"Sentiment\".\n",
        "\n",
        "You can get help of Vader sentiment from this; https://towardsdatascience.com/sentimental-analysis-using-vader-a3415fef7664"
      ]
    },
    {
      "cell_type": "code",
      "execution_count": null,
      "metadata": {
        "id": "iU6uYJOuSKdj",
        "outputId": "c259dda7-01b7-437e-b4dd-12a438a2abb4"
      },
      "outputs": [
        {
          "name": "stderr",
          "output_type": "stream",
          "text": [
            "[nltk_data] Downloading package punkt to\n",
            "[nltk_data]     C:\\Users\\user\\AppData\\Roaming\\nltk_data...\n",
            "[nltk_data]   Package punkt is already up-to-date!\n"
          ]
        }
      ],
      "source": [
        "import nltk\n",
        "import string\n",
        "nltk.download('punkt')\n",
        "# !pip install emoji\n",
        "import emoji\n",
        "import re"
      ]
    },
    {
      "cell_type": "code",
      "execution_count": null,
      "metadata": {
        "id": "_ZGE_IBCSKdj"
      },
      "outputs": [],
      "source": [
        "import re\n",
        "def remove_emoji(text):\n",
        "    emojis = re.compile(\"[\"  u\"\\U0001F1E0-\\U0001F1FF\" u\"\\U000024C2-\\U0001F251\" u\"\\U0001f926-\\U0001f937\"\n",
        "                               u\"\\u3030\" u\"\\U00010000-\\U0010ffff\" u\"\\U00002500-\\U00002BEF\"\n",
        "                               u\"\\u200d\" u\"\\u23cf\" u\"\\u23e9\" u\"\\u231a\" u\"\\U00002702-\\U000027B0\"\n",
        "                               u\"\\U0001F600-\\U0001F64F\" u\"\\U0001F300-\\U0001F5FF\"\n",
        "                               u\"\\U0001F680-\\U0001F6FF\" u\"\\U00002702-\\U000027B0\"\n",
        "                               u\"\\u2640-\\u2642\" u\"\\u2600-\\u2B55\" u\"\\ufe0f\"  \"]+\", flags=re.UNICODE)\n",
        "    val=emojis.sub(r'', text)\n",
        "    return val"
      ]
    },
    {
      "cell_type": "code",
      "execution_count": null,
      "metadata": {
        "id": "ShW_b1qYSKdk"
      },
      "outputs": [],
      "source": [
        "#for review column\n",
        "ReviewList=frame[\"Review text\"].astype(\"str\").tolist()\n",
        "final=[]\n",
        "for i in ReviewList:\n",
        "    test=remove_emoji(i)\n",
        "    Review_tokens = nltk.word_tokenize(test.lower())\n",
        "    test=[]\n",
        "\n",
        "    for i in Review_tokens:\n",
        "        if (i in string.punctuation):\n",
        "            x=-1\n",
        "        else:\n",
        "            test.append(i)\n",
        "\n",
        "    Review_tokens=test\n",
        "    final.append(\" \".join(Review_tokens))\n",
        "ReviewList=final\n",
        "\n",
        "#for name column\n",
        "nameList=frame[\"Name\"].astype(\"str\").tolist()\n",
        "final2=[]\n",
        "for i in nameList:\n",
        "    test=remove_emoji(i)\n",
        "    name_tokens = nltk.word_tokenize(test.lower())\n",
        "    test=[]\n",
        "\n",
        "    for i in name_tokens:\n",
        "        if (i in string.punctuation):\n",
        "            x=-1\n",
        "        else:\n",
        "            test.append(i)\n",
        "\n",
        "    name_tokens=test\n",
        "    final2.append(\" \".join(name_tokens))\n",
        "nameList=final2"
      ]
    },
    {
      "cell_type": "code",
      "execution_count": null,
      "metadata": {
        "id": "m4rv77wUSKdk"
      },
      "outputs": [],
      "source": [
        "check=frame\n",
        "check[\"Name\"]=nameList\n",
        "check[\"Review text\"]=ReviewList"
      ]
    },
    {
      "cell_type": "code",
      "execution_count": null,
      "metadata": {
        "id": "SRdIX55gSKdk",
        "outputId": "fb5b8eb8-50dd-401f-f459-ac0abab0eb85"
      },
      "outputs": [
        {
          "data": {
            "text/html": [
              "<div>\n",
              "<style scoped>\n",
              "    .dataframe tbody tr th:only-of-type {\n",
              "        vertical-align: middle;\n",
              "    }\n",
              "\n",
              "    .dataframe tbody tr th {\n",
              "        vertical-align: top;\n",
              "    }\n",
              "\n",
              "    .dataframe thead th {\n",
              "        text-align: right;\n",
              "    }\n",
              "</style>\n",
              "<table border=\"1\" class=\"dataframe\">\n",
              "  <thead>\n",
              "    <tr style=\"text-align: right;\">\n",
              "      <th></th>\n",
              "      <th>Name</th>\n",
              "      <th>Review text</th>\n",
              "    </tr>\n",
              "  </thead>\n",
              "  <tbody>\n",
              "    <tr>\n",
              "      <th>0</th>\n",
              "      <td>talal a</td>\n",
              "      <td>bht zbrdrst hai same too same ju pic me thaaa ...</td>\n",
              "    </tr>\n",
              "    <tr>\n",
              "      <th>1</th>\n",
              "      <td>saqlain j</td>\n",
              "      <td>wah kya baat hai yarr both pyaara hai cover bu...</td>\n",
              "    </tr>\n",
              "    <tr>\n",
              "      <th>2</th>\n",
              "      <td>3 8</td>\n",
              "      <td>salam daraz jb bi apse mobile cover magwaya hn...</td>\n",
              "    </tr>\n",
              "    <tr>\n",
              "      <th>3</th>\n",
              "      <td>3 7</td>\n",
              "      <td>cover is so nice .. same as it was shown nice ...</td>\n",
              "    </tr>\n",
              "    <tr>\n",
              "      <th>4</th>\n",
              "      <td>moin a</td>\n",
              "      <td>bhht hi acha cover h takreebn 1 month bd mila ...</td>\n",
              "    </tr>\n",
              "    <tr>\n",
              "      <th>5</th>\n",
              "      <td>546</td>\n",
              "      <td>very beautiful product and quality is good</td>\n",
              "    </tr>\n",
              "    <tr>\n",
              "      <th>6</th>\n",
              "      <td>0 2</td>\n",
              "      <td>ya dykh lay upr say kya how hai</td>\n",
              "    </tr>\n",
              "    <tr>\n",
              "      <th>7</th>\n",
              "      <td>sulaimanjan</td>\n",
              "      <td>thank you very much i will lay it out may god ...</td>\n",
              "    </tr>\n",
              "    <tr>\n",
              "      <th>8</th>\n",
              "      <td>diya c</td>\n",
              "      <td>dnt buy ds cover .. its dhoka ..</td>\n",
              "    </tr>\n",
              "    <tr>\n",
              "      <th>9</th>\n",
              "      <td>saleem s</td>\n",
              "      <td>best quality and most adorable highly recommended</td>\n",
              "    </tr>\n",
              "    <tr>\n",
              "      <th>10</th>\n",
              "      <td>abbas r</td>\n",
              "      <td>10/8 rating</td>\n",
              "    </tr>\n",
              "    <tr>\n",
              "      <th>11</th>\n",
              "      <td>918</td>\n",
              "      <td>this mobile cover is awesome and beautiful</td>\n",
              "    </tr>\n",
              "    <tr>\n",
              "      <th>12</th>\n",
              "      <td>ehtisham a</td>\n",
              "      <td>mashallah boht acha piece nikla thanks sir</td>\n",
              "    </tr>\n",
              "    <tr>\n",
              "      <th>13</th>\n",
              "      <td>0 3</td>\n",
              "      <td>nice cover billkul fit aya hai jazakallah</td>\n",
              "    </tr>\n",
              "    <tr>\n",
              "      <th>14</th>\n",
              "      <td>9</td>\n",
              "      <td>i like it very much</td>\n",
              "    </tr>\n",
              "  </tbody>\n",
              "</table>\n",
              "</div>"
            ],
            "text/plain": [
              "           Name                                        Review text\n",
              "0       talal a  bht zbrdrst hai same too same ju pic me thaaa ...\n",
              "1     saqlain j  wah kya baat hai yarr both pyaara hai cover bu...\n",
              "2           3 8  salam daraz jb bi apse mobile cover magwaya hn...\n",
              "3           3 7  cover is so nice .. same as it was shown nice ...\n",
              "4        moin a  bhht hi acha cover h takreebn 1 month bd mila ...\n",
              "5           546         very beautiful product and quality is good\n",
              "6           0 2                    ya dykh lay upr say kya how hai\n",
              "7   sulaimanjan  thank you very much i will lay it out may god ...\n",
              "8        diya c                   dnt buy ds cover .. its dhoka ..\n",
              "9      saleem s  best quality and most adorable highly recommended\n",
              "10      abbas r                                        10/8 rating\n",
              "11          918         this mobile cover is awesome and beautiful\n",
              "12   ehtisham a         mashallah boht acha piece nikla thanks sir\n",
              "13          0 3          nice cover billkul fit aya hai jazakallah\n",
              "14            9                                i like it very much"
            ]
          },
          "execution_count": 111,
          "metadata": {},
          "output_type": "execute_result"
        }
      ],
      "source": [
        "check"
      ]
    },
    {
      "cell_type": "code",
      "execution_count": null,
      "metadata": {
        "id": "X35OoeMsSKdk",
        "outputId": "3cc45dec-d308-4016-f081-a3e38187027b"
      },
      "outputs": [
        {
          "name": "stderr",
          "output_type": "stream",
          "text": [
            "[nltk_data] Downloading package vader_lexicon to\n",
            "[nltk_data]     C:\\Users\\user\\AppData\\Roaming\\nltk_data...\n",
            "[nltk_data]   Package vader_lexicon is already up-to-date!\n"
          ]
        }
      ],
      "source": [
        "df=frame\n",
        "import nltk\n",
        "nltk.download('vader_lexicon')\n",
        "from nltk.sentiment.vader import SentimentIntensityAnalyzer\n",
        "sid = SentimentIntensityAnalyzer()\n",
        "df['scores'] = df['Review text'].apply(lambda rev: sid.polarity_scores(rev))\n",
        "df['compound']  = df['scores'].apply(lambda score_dict: score_dict['compound'])\n",
        "df['Sentiment'] = df['compound'].apply(lambda c: 'negative' if c <0 else 'positive')\n",
        "frame=frame[[\"Name\", \"Review text\", 'Sentiment']]"
      ]
    },
    {
      "cell_type": "code",
      "execution_count": null,
      "metadata": {
        "id": "xk_NXQagSKdl",
        "outputId": "17de1430-73c7-4b46-abd9-a4e06858f8df"
      },
      "outputs": [
        {
          "data": {
            "text/html": [
              "<div>\n",
              "<style scoped>\n",
              "    .dataframe tbody tr th:only-of-type {\n",
              "        vertical-align: middle;\n",
              "    }\n",
              "\n",
              "    .dataframe tbody tr th {\n",
              "        vertical-align: top;\n",
              "    }\n",
              "\n",
              "    .dataframe thead th {\n",
              "        text-align: right;\n",
              "    }\n",
              "</style>\n",
              "<table border=\"1\" class=\"dataframe\">\n",
              "  <thead>\n",
              "    <tr style=\"text-align: right;\">\n",
              "      <th></th>\n",
              "      <th>Name</th>\n",
              "      <th>Review text</th>\n",
              "      <th>Sentiment</th>\n",
              "    </tr>\n",
              "  </thead>\n",
              "  <tbody>\n",
              "    <tr>\n",
              "      <th>0</th>\n",
              "      <td>talal a</td>\n",
              "      <td>bht zbrdrst hai same too same ju pic me thaaa ...</td>\n",
              "      <td>positive</td>\n",
              "    </tr>\n",
              "    <tr>\n",
              "      <th>1</th>\n",
              "      <td>saqlain j</td>\n",
              "      <td>wah kya baat hai yarr both pyaara hai cover bu...</td>\n",
              "      <td>negative</td>\n",
              "    </tr>\n",
              "    <tr>\n",
              "      <th>2</th>\n",
              "      <td>3 8</td>\n",
              "      <td>salam daraz jb bi apse mobile cover magwaya hn...</td>\n",
              "      <td>negative</td>\n",
              "    </tr>\n",
              "    <tr>\n",
              "      <th>3</th>\n",
              "      <td>3 7</td>\n",
              "      <td>cover is so nice .. same as it was shown nice ...</td>\n",
              "      <td>positive</td>\n",
              "    </tr>\n",
              "    <tr>\n",
              "      <th>4</th>\n",
              "      <td>moin a</td>\n",
              "      <td>bhht hi acha cover h takreebn 1 month bd mila ...</td>\n",
              "      <td>positive</td>\n",
              "    </tr>\n",
              "    <tr>\n",
              "      <th>5</th>\n",
              "      <td>546</td>\n",
              "      <td>very beautiful product and quality is good</td>\n",
              "      <td>positive</td>\n",
              "    </tr>\n",
              "    <tr>\n",
              "      <th>6</th>\n",
              "      <td>0 2</td>\n",
              "      <td>ya dykh lay upr say kya how hai</td>\n",
              "      <td>positive</td>\n",
              "    </tr>\n",
              "    <tr>\n",
              "      <th>7</th>\n",
              "      <td>sulaimanjan</td>\n",
              "      <td>thank you very much i will lay it out may god ...</td>\n",
              "      <td>positive</td>\n",
              "    </tr>\n",
              "    <tr>\n",
              "      <th>8</th>\n",
              "      <td>diya c</td>\n",
              "      <td>dnt buy ds cover .. its dhoka ..</td>\n",
              "      <td>positive</td>\n",
              "    </tr>\n",
              "    <tr>\n",
              "      <th>9</th>\n",
              "      <td>saleem s</td>\n",
              "      <td>best quality and most adorable highly recommended</td>\n",
              "      <td>positive</td>\n",
              "    </tr>\n",
              "    <tr>\n",
              "      <th>10</th>\n",
              "      <td>abbas r</td>\n",
              "      <td>10/8 rating</td>\n",
              "      <td>positive</td>\n",
              "    </tr>\n",
              "    <tr>\n",
              "      <th>11</th>\n",
              "      <td>918</td>\n",
              "      <td>this mobile cover is awesome and beautiful</td>\n",
              "      <td>positive</td>\n",
              "    </tr>\n",
              "    <tr>\n",
              "      <th>12</th>\n",
              "      <td>ehtisham a</td>\n",
              "      <td>mashallah boht acha piece nikla thanks sir</td>\n",
              "      <td>positive</td>\n",
              "    </tr>\n",
              "    <tr>\n",
              "      <th>13</th>\n",
              "      <td>0 3</td>\n",
              "      <td>nice cover billkul fit aya hai jazakallah</td>\n",
              "      <td>positive</td>\n",
              "    </tr>\n",
              "    <tr>\n",
              "      <th>14</th>\n",
              "      <td>9</td>\n",
              "      <td>i like it very much</td>\n",
              "      <td>positive</td>\n",
              "    </tr>\n",
              "  </tbody>\n",
              "</table>\n",
              "</div>"
            ],
            "text/plain": [
              "           Name                                        Review text Sentiment\n",
              "0       talal a  bht zbrdrst hai same too same ju pic me thaaa ...  positive\n",
              "1     saqlain j  wah kya baat hai yarr both pyaara hai cover bu...  negative\n",
              "2           3 8  salam daraz jb bi apse mobile cover magwaya hn...  negative\n",
              "3           3 7  cover is so nice .. same as it was shown nice ...  positive\n",
              "4        moin a  bhht hi acha cover h takreebn 1 month bd mila ...  positive\n",
              "5           546         very beautiful product and quality is good  positive\n",
              "6           0 2                    ya dykh lay upr say kya how hai  positive\n",
              "7   sulaimanjan  thank you very much i will lay it out may god ...  positive\n",
              "8        diya c                   dnt buy ds cover .. its dhoka ..  positive\n",
              "9      saleem s  best quality and most adorable highly recommended  positive\n",
              "10      abbas r                                        10/8 rating  positive\n",
              "11          918         this mobile cover is awesome and beautiful  positive\n",
              "12   ehtisham a         mashallah boht acha piece nikla thanks sir  positive\n",
              "13          0 3          nice cover billkul fit aya hai jazakallah  positive\n",
              "14            9                                i like it very much  positive"
            ]
          },
          "execution_count": 122,
          "metadata": {},
          "output_type": "execute_result"
        }
      ],
      "source": [
        "frame"
      ]
    },
    {
      "cell_type": "markdown",
      "metadata": {
        "id": "XY9sG7_5SKdl"
      },
      "source": [
        "# Question 2   (20 marks)"
      ]
    },
    {
      "cell_type": "markdown",
      "metadata": {
        "id": "9jXEWQjPSKdl"
      },
      "source": [
        "Scrape 80 items for a keyword search e.g., 'mobile covers'<br/>Note: Must use \"click()\" function of webElement, URL changing for pages is not allowed. The code must be generic and should work for every keyword, with proper checks in place. Bonus for also scraping country and Daraz Mall availability."
      ]
    },
    {
      "cell_type": "code",
      "execution_count": null,
      "metadata": {
        "id": "DPzMG9blSKdl",
        "outputId": "725b963e-80c8-4ebc-8c7f-9cbe599fc6f7"
      },
      "outputs": [
        {
          "name": "stdout",
          "output_type": "stream",
          "text": [
            "https://www.daraz.pk/catalog/?q=mobile+covers&_keyori=ss&from=input&spm=a2a0e.home.search.go.35e34937ThhB5W\n"
          ]
        }
      ],
      "source": [
        "query = 'mobile covers'\n",
        "query = query.replace(' ', '+')\n",
        "url = f'https://www.daraz.pk/catalog/?q={query}&_keyori=ss&from=input&spm=a2a0e.home.search.go.35e34937ThhB5W'.format(query)\n",
        "print(url)"
      ]
    },
    {
      "cell_type": "code",
      "execution_count": null,
      "metadata": {
        "id": "Cf6CP06USKdl",
        "outputId": "ac5cfd06-959e-4de4-b18e-64fc07c45aa6"
      },
      "outputs": [
        {
          "name": "stderr",
          "output_type": "stream",
          "text": [
            "C:\\Users\\user\\AppData\\Local\\Temp\\ipykernel_11320\\3220673672.py:1: DeprecationWarning: executable_path has been deprecated, please pass in a Service object\n",
            "  driver=webdriver.Chrome(r\"C:\\Users\\chromedriver.exe\")\n"
          ]
        }
      ],
      "source": [
        "driver=webdriver.Chrome(r\"C:\\Users\\chromedriver.exe\")\n",
        "driver.get(url)"
      ]
    },
    {
      "cell_type": "code",
      "execution_count": null,
      "metadata": {
        "id": "DYm077XxSKdm"
      },
      "outputs": [],
      "source": [
        "Name=[]\n",
        "Price=[]\n",
        "Stars=[]\n",
        "Reviews=[]\n",
        "Location=[]\n",
        "DarazMall=[]\n",
        "Rating=[]\n"
      ]
    },
    {
      "cell_type": "code",
      "execution_count": null,
      "metadata": {
        "id": "6LTHVhlISKdm",
        "outputId": "442e68b1-3d0d-424b-95a0-4141019fc946"
      },
      "outputs": [
        {
          "name": "stdout",
          "output_type": "stream",
          "text": [
            "\n",
            "\n"
          ]
        }
      ],
      "source": [
        "for i in range(2):\n",
        "    time.sleep(5)\n",
        "    products= driver.find_element(By.CLASS_NAME, \"box--ujueT\").find_elements(By.CLASS_NAME, \"gridItem--Yd0sa\")\n",
        "    driver.execute_script('window.scroll(0,100)')\n",
        "    time.sleep(1)\n",
        "    for product in products:\n",
        "        Name.append(product.find_element(By.CLASS_NAME, \"title--wFj93\").text)\n",
        "        Price.append(product.find_element(By.CLASS_NAME, \"price--NVB62\").text)\n",
        "\n",
        "        location=product.find_element(By.CLASS_NAME, \"location--eh0Ro \").text\n",
        "        if(location!='Free Shipping'):\n",
        "            Location.append(location)\n",
        "        else:\n",
        "            Location.append('-')\n",
        "\n",
        "        try:\n",
        "    #             check=product.find_element(By.CLASS_NAME, \"tag--huSJx\").find_element(By.CLASS_NAME, \"ic-dynamic-badge ic-dynamic-badge-lazMall ic-dynamic-group-1\")\n",
        "            check=product.find_elements(\"tag name\", \"i\")\n",
        "            if(len(check)>5):\n",
        "                DarazMall.append(True)\n",
        "            else:\n",
        "                DarazMall.append(False)\n",
        "        except:\n",
        "            DarazMall.append(False)\n",
        "\n",
        "\n",
        "        result=''\n",
        "        rating=0\n",
        "        ratings= product.find_elements(By.CLASS_NAME, \"star-icon--k88DV\")\n",
        "        for star in ratings:\n",
        "            try:\n",
        "                result= star.get_attribute('class').replace('star-icon--k88DV star-', '').replace('--UQtQk', '').replace('--lQLaV', '')\n",
        "                result=result.replace('--hM0en','').replace('--ezGMb', '').replace('--yMyuX', '').replace('--hXNSC', '').replace('--fBIsH', '').replace('--UNNG4', '')\n",
        "                result= result\n",
        "                rating= (int(rating) + int(result))\n",
        "            except:\n",
        "                print(\"\")\n",
        "        rating=rating/10\n",
        "        Rating.append(rating)\n",
        "\n",
        "    driver.execute_script('window.scroll(100,4500)')\n",
        "    time.sleep(3)\n",
        "    driver.find_element(By.XPATH, \"/html/body/div[3]/div/div[2]/div/div/div[1]/div[3]/div/ul/li[9]/a\").click()\n"
      ]
    },
    {
      "cell_type": "code",
      "execution_count": null,
      "metadata": {
        "id": "1UHluuD8SKdm",
        "outputId": "2aeae31f-85c8-4b8e-c203-9fd9dba5231a"
      },
      "outputs": [
        {
          "name": "stdout",
          "output_type": "stream",
          "text": [
            "\n"
          ]
        }
      ],
      "source": [
        "#not part of the solution\n",
        "# products= driver.find_element(By.CLASS_NAME, \"box--ujueT\").find_elements(By.CLASS_NAME, \"gridItem--Yd0sa\")\n",
        "# for product in products:\n",
        "#     Name.append(product.find_element(By.CLASS_NAME, \"title--wFj93\").text)\n",
        "#     Price.append(product.find_element(By.CLASS_NAME, \"price--NVB62\").text)\n",
        "\n",
        "#     location=product.find_element(By.CLASS_NAME, \"location--eh0Ro \").text\n",
        "#     if(location!='Free Shipping'):\n",
        "#         Location.append(location)\n",
        "#     else:\n",
        "#         Location.append('-')\n",
        "\n",
        "#     try:\n",
        "# #             check=product.find_element(By.CLASS_NAME, \"tag--huSJx\").find_element(By.CLASS_NAME, \"ic-dynamic-badge ic-dynamic-badge-lazMall ic-dynamic-group-1\")\n",
        "#         check=product.find_elements(\"tag name\", \"i\")\n",
        "#         if(len(check)>5):\n",
        "#             DarazMall.append(True)\n",
        "#         else:\n",
        "#             DarazMall.append(False)\n",
        "#     except:\n",
        "#         DarazMall.append(False)\n",
        "\n",
        "\n",
        "#     result=''\n",
        "#     rating=0\n",
        "#     ratings= product.find_elements(By.CLASS_NAME, \"star-icon--k88DV\")\n",
        "#     for star in ratings:\n",
        "#         try:\n",
        "#             result= star.get_attribute('class').replace('star-icon--k88DV star-', '').replace('--UQtQk', '').replace('--lQLaV', '')\n",
        "#             result=result.replace('--hM0en','').replace('--ezGMb', '').replace('--yMyuX', '').replace('--hXNSC', '').replace('--fBIsH', '').replace('--UNNG4', '')\n",
        "#             result= result\n",
        "#             rating= (int(rating) + int(result))\n",
        "#         except:\n",
        "#             print(\"\")\n",
        "#     rating=rating/10\n",
        "#     Rating.append(rating)\n",
        "\n",
        "\n",
        "\n",
        "\n",
        "\n",
        "# # products= driver.find_element(By.CLASS_NAME, \"box--ujueT\").find_elements(By.CLASS_NAME, \"gridItem--Yd0sa\")\n",
        "# # scrape(products)\n",
        "\n",
        "# # products= driver.find_element(By.CLASS_NAME, \"box--ujueT\").find_elements(By.CLASS_NAME, \"gridItem--Yd0sa\")\n",
        "# # element= driver.find_element(By.LINK_TEXT, '2')\n",
        "# # element.click()\n",
        "# # scrape(products)"
      ]
    },
    {
      "cell_type": "code",
      "execution_count": null,
      "metadata": {
        "id": "3QDNaXaSSKdn"
      },
      "outputs": [],
      "source": [
        "dict={}\n",
        "dict[\"Name\"]=Name\n",
        "dict[\"Price\"]=Price\n",
        "# dict[\"Reviews\"]=Reviews\n",
        "dict[\"Location\"]=Location\n",
        "dict[\"DarazMall\"]=DarazMall\n",
        "dict[\"Rating\"]=Rating\n",
        "\n",
        "\n",
        "df=pd.DataFrame.from_dict(dict)"
      ]
    },
    {
      "cell_type": "code",
      "execution_count": null,
      "metadata": {
        "id": "FwIB7fyNSKdn",
        "outputId": "1b9a496e-d921-49cc-ec98-fa9dc40ff09f"
      },
      "outputs": [
        {
          "data": {
            "text/html": [
              "<div>\n",
              "<style scoped>\n",
              "    .dataframe tbody tr th:only-of-type {\n",
              "        vertical-align: middle;\n",
              "    }\n",
              "\n",
              "    .dataframe tbody tr th {\n",
              "        vertical-align: top;\n",
              "    }\n",
              "\n",
              "    .dataframe thead th {\n",
              "        text-align: right;\n",
              "    }\n",
              "</style>\n",
              "<table border=\"1\" class=\"dataframe\">\n",
              "  <thead>\n",
              "    <tr style=\"text-align: right;\">\n",
              "      <th></th>\n",
              "      <th>Name</th>\n",
              "      <th>Price</th>\n",
              "      <th>Location</th>\n",
              "      <th>DarazMall</th>\n",
              "      <th>Rating</th>\n",
              "    </tr>\n",
              "  </thead>\n",
              "  <tbody>\n",
              "    <tr>\n",
              "      <th>0</th>\n",
              "      <td>Hontinga for Samsung A31 Case Luxury 6D Platin...</td>\n",
              "      <td>Rs. 506</td>\n",
              "      <td>-</td>\n",
              "      <td>True</td>\n",
              "      <td>4.7</td>\n",
              "    </tr>\n",
              "    <tr>\n",
              "      <th>1</th>\n",
              "      <td>Hontinga for Huawei Y9 Prime 2019 Case Luxury ...</td>\n",
              "      <td>Rs. 441</td>\n",
              "      <td>-</td>\n",
              "      <td>True</td>\n",
              "      <td>4.9</td>\n",
              "    </tr>\n",
              "    <tr>\n",
              "      <th>2</th>\n",
              "      <td>Hontinga for OPPO A54 / A54 2021 Case Luxury 6...</td>\n",
              "      <td>Rs. 445</td>\n",
              "      <td>-</td>\n",
              "      <td>True</td>\n",
              "      <td>4.8</td>\n",
              "    </tr>\n",
              "    <tr>\n",
              "      <th>3</th>\n",
              "      <td>Hontinga for OPPO F11 Pro Back Cover Luxury 6D...</td>\n",
              "      <td>Rs. 524</td>\n",
              "      <td>-</td>\n",
              "      <td>True</td>\n",
              "      <td>4.6</td>\n",
              "    </tr>\n",
              "    <tr>\n",
              "      <th>4</th>\n",
              "      <td>Hontinga for Samsung Galaxy A03 Back Cover Lux...</td>\n",
              "      <td>Rs. 445</td>\n",
              "      <td>-</td>\n",
              "      <td>True</td>\n",
              "      <td>5.0</td>\n",
              "    </tr>\n",
              "    <tr>\n",
              "      <th>...</th>\n",
              "      <td>...</td>\n",
              "      <td>...</td>\n",
              "      <td>...</td>\n",
              "      <td>...</td>\n",
              "      <td>...</td>\n",
              "    </tr>\n",
              "    <tr>\n",
              "      <th>75</th>\n",
              "      <td>Luxury 6D Plating Soft Casing Silicone Square ...</td>\n",
              "      <td>Rs. 479</td>\n",
              "      <td>-</td>\n",
              "      <td>True</td>\n",
              "      <td>4.6</td>\n",
              "    </tr>\n",
              "    <tr>\n",
              "      <th>76</th>\n",
              "      <td>Hontinga for Huawei Y9 2019 Case Luxury 6D Pla...</td>\n",
              "      <td>Rs. 506</td>\n",
              "      <td>-</td>\n",
              "      <td>True</td>\n",
              "      <td>5.0</td>\n",
              "    </tr>\n",
              "    <tr>\n",
              "      <th>77</th>\n",
              "      <td>Hontinga for Samsung A72 5G / 4G Case Luxury 6...</td>\n",
              "      <td>Rs. 524</td>\n",
              "      <td>-</td>\n",
              "      <td>True</td>\n",
              "      <td>4.0</td>\n",
              "    </tr>\n",
              "    <tr>\n",
              "      <th>78</th>\n",
              "      <td>Hontinga for Xiaomi Poco M3 Back Cover Luxury ...</td>\n",
              "      <td>Rs. 524</td>\n",
              "      <td>-</td>\n",
              "      <td>True</td>\n",
              "      <td>4.9</td>\n",
              "    </tr>\n",
              "    <tr>\n",
              "      <th>79</th>\n",
              "      <td>Hontinga for Vivo V23 5G Back Cover Luxury 6D ...</td>\n",
              "      <td>Rs. 524</td>\n",
              "      <td>-</td>\n",
              "      <td>True</td>\n",
              "      <td>4.9</td>\n",
              "    </tr>\n",
              "  </tbody>\n",
              "</table>\n",
              "<p>80 rows × 5 columns</p>\n",
              "</div>"
            ],
            "text/plain": [
              "                                                 Name    Price Location  \\\n",
              "0   Hontinga for Samsung A31 Case Luxury 6D Platin...  Rs. 506        -   \n",
              "1   Hontinga for Huawei Y9 Prime 2019 Case Luxury ...  Rs. 441        -   \n",
              "2   Hontinga for OPPO A54 / A54 2021 Case Luxury 6...  Rs. 445        -   \n",
              "3   Hontinga for OPPO F11 Pro Back Cover Luxury 6D...  Rs. 524        -   \n",
              "4   Hontinga for Samsung Galaxy A03 Back Cover Lux...  Rs. 445        -   \n",
              "..                                                ...      ...      ...   \n",
              "75  Luxury 6D Plating Soft Casing Silicone Square ...  Rs. 479        -   \n",
              "76  Hontinga for Huawei Y9 2019 Case Luxury 6D Pla...  Rs. 506        -   \n",
              "77  Hontinga for Samsung A72 5G / 4G Case Luxury 6...  Rs. 524        -   \n",
              "78  Hontinga for Xiaomi Poco M3 Back Cover Luxury ...  Rs. 524        -   \n",
              "79  Hontinga for Vivo V23 5G Back Cover Luxury 6D ...  Rs. 524        -   \n",
              "\n",
              "    DarazMall  Rating  \n",
              "0        True     4.7  \n",
              "1        True     4.9  \n",
              "2        True     4.8  \n",
              "3        True     4.6  \n",
              "4        True     5.0  \n",
              "..        ...     ...  \n",
              "75       True     4.6  \n",
              "76       True     5.0  \n",
              "77       True     4.0  \n",
              "78       True     4.9  \n",
              "79       True     4.9  \n",
              "\n",
              "[80 rows x 5 columns]"
            ]
          },
          "execution_count": 136,
          "metadata": {},
          "output_type": "execute_result"
        }
      ],
      "source": [
        "#Output\n",
        "df"
      ]
    },
    {
      "cell_type": "raw",
      "metadata": {
        "id": "s250LNocSKdn"
      },
      "source": [
        "# Question 3  (30 marks)"
      ]
    },
    {
      "cell_type": "markdown",
      "metadata": {
        "id": "2y2uVNaxSKdo"
      },
      "source": [
        "# <!-- Which Products are on Flash sale? Display Product name, Actual Price, Discounted Price, Discount Percentage, Rating, No. of Reviews, Top 3 reviews displayed.\n",
        "\n",
        "Display output must be like this. Products may vary. -->\n",
        "\n",
        "If a user wants to make a store to sell something, lets say \"Mobile Covers\". He/She wants to see folowing things:\n",
        "1. Top 10 Sellers store names\n",
        "2. Daraz Mall Store/ Private store\n",
        "3. Total \"Mobile Covers\" listings on his store\n",
        "4. Avg Prices\n",
        "5. Avg Units selling\n",
        "6. Positive Seller Ratings\n",
        "7. Seller Country"
      ]
    },
    {
      "cell_type": "code",
      "execution_count": null,
      "metadata": {
        "id": "Psl07yJ-SKdo",
        "outputId": "508290d4-2ce3-4e2f-b7ea-b509fcb6891c"
      },
      "outputs": [
        {
          "data": {
            "text/html": [
              "<div>\n",
              "<style scoped>\n",
              "    .dataframe tbody tr th:only-of-type {\n",
              "        vertical-align: middle;\n",
              "    }\n",
              "\n",
              "    .dataframe tbody tr th {\n",
              "        vertical-align: top;\n",
              "    }\n",
              "\n",
              "    .dataframe thead th {\n",
              "        text-align: right;\n",
              "    }\n",
              "</style>\n",
              "<table border=\"1\" class=\"dataframe\">\n",
              "  <thead>\n",
              "    <tr style=\"text-align: right;\">\n",
              "      <th></th>\n",
              "      <th>Store Name</th>\n",
              "      <th>Daraz Mall/Private</th>\n",
              "      <th>Avg Price</th>\n",
              "      <th>Listings</th>\n",
              "      <th>Avg unit selling</th>\n",
              "      <th>Seller Ratings</th>\n",
              "      <th>Country</th>\n",
              "      <th>Followers</th>\n",
              "    </tr>\n",
              "  </thead>\n",
              "  <tbody>\n",
              "    <tr>\n",
              "      <th>0</th>\n",
              "      <td>Hontinga</td>\n",
              "      <td>Daraz Mall</td>\n",
              "      <td>565</td>\n",
              "      <td>187414</td>\n",
              "      <td>110</td>\n",
              "      <td>93</td>\n",
              "      <td>Overseas</td>\n",
              "      <td>29919</td>\n",
              "    </tr>\n",
              "    <tr>\n",
              "      <th>1</th>\n",
              "      <td>ABC MOBILE ACCESSORIES STORE ( FAISALABAD )</td>\n",
              "      <td>Private</td>\n",
              "      <td>95</td>\n",
              "      <td>438</td>\n",
              "      <td>29</td>\n",
              "      <td>93</td>\n",
              "      <td>Pakistan</td>\n",
              "      <td>11969</td>\n",
              "    </tr>\n",
              "  </tbody>\n",
              "</table>\n",
              "</div>"
            ],
            "text/plain": [
              "                                    Store Name Daraz Mall/Private  Avg Price  \\\n",
              "0                                     Hontinga         Daraz Mall        565   \n",
              "1  ABC MOBILE ACCESSORIES STORE ( FAISALABAD )            Private         95   \n",
              "\n",
              "   Listings  Avg unit selling  Seller Ratings   Country  Followers  \n",
              "0    187414               110              93  Overseas      29919  \n",
              "1       438                29              93  Pakistan      11969  "
            ]
          },
          "execution_count": 3,
          "metadata": {},
          "output_type": "execute_result"
        }
      ],
      "source": [
        "#Run this cell to see the sample output\n",
        "import pandas as pd\n",
        "pd.read_csv('output.csv')"
      ]
    },
    {
      "cell_type": "code",
      "execution_count": null,
      "metadata": {
        "id": "QhMgU9LtSKdo"
      },
      "outputs": [],
      "source": []
    }
  ],
  "metadata": {
    "kernelspec": {
      "display_name": "Python 3 (ipykernel)",
      "language": "python",
      "name": "python3"
    },
    "language_info": {
      "codemirror_mode": {
        "name": "ipython",
        "version": 3
      },
      "file_extension": ".py",
      "mimetype": "text/x-python",
      "name": "python",
      "nbconvert_exporter": "python",
      "pygments_lexer": "ipython3",
      "version": "3.9.12"
    },
    "colab": {
      "provenance": []
    }
  },
  "nbformat": 4,
  "nbformat_minor": 0
}