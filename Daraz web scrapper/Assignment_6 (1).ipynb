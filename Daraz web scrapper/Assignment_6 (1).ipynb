{
  "cells": [
    {
      "cell_type": "markdown",
      "metadata": {
        "id": "OoUUdeO1SVwI"
      },
      "source": [
        "# Name: Hasnain Jafri\n",
        "# Roll No.: k21-3116\n",
        "# Assignment 6"
      ]
    },
    {
      "cell_type": "markdown",
      "metadata": {
        "id": "nJevtu2OSVwN"
      },
      "source": [
        "# Instruction"
      ]
    },
    {
      "cell_type": "markdown",
      "metadata": {
        "id": "MRjpTwIBSVwO"
      },
      "source": [
        "1. Don’t plagiarize, Plagiarism would lead to straight zero\n",
        "2. Clearly mention your NAME and ROLL NO#.\n",
        "3. Late submissions are not allowed. Start Early."
      ]
    },
    {
      "cell_type": "code",
      "execution_count": null,
      "metadata": {
        "id": "O_sXoPLOSVwO"
      },
      "outputs": [],
      "source": [
        "#import libraries\n",
        "import time\n",
        "import pandas as pd\n",
        "import re\n",
        "import string\n",
        "from selenium import webdriver\n",
        "from selenium.webdriver.edge.options import Options\n",
        "from selenium.webdriver.common.keys import Keys\n",
        "# from webdriver_manager.chrome import ChromeDriverManager\n",
        "from selenium.webdriver.common.by import By\n",
        "from selenium.common.exceptions import NoSuchElementException"
      ]
    },
    {
      "cell_type": "markdown",
      "metadata": {
        "id": "VmPtM-kcSVwP"
      },
      "source": [
        "# Question 1  (10 marks)"
      ]
    },
    {
      "cell_type": "markdown",
      "metadata": {
        "id": "WGrJ3pVLSVwP"
      },
      "source": [
        "Scrape 3 pages of reviews for a single product listing using product URL.<br /> Note: Product must have more than 1 review page. The code must be generic and should work for every product listing URL, with proper checks in place."
      ]
    },
    {
      "cell_type": "code",
      "execution_count": null,
      "metadata": {
        "id": "Nd0Qh6x7SVwQ",
        "outputId": "69fb76fb-2ad8-461b-9f19-141da5dbbf56"
      },
      "outputs": [
        {
          "name": "stderr",
          "output_type": "stream",
          "text": [
            "C:\\Users\\user\\AppData\\Local\\Temp\\ipykernel_6752\\3590681886.py:2: DeprecationWarning: executable_path has been deprecated, please pass in a Service object\n",
            "  driver=webdriver.Chrome(r\"C:\\Users\\chromedriver.exe\")\n"
          ]
        }
      ],
      "source": [
        "url = 'https://www.daraz.pk/products/11-11s-6d-i273278323-s1486421563.html?spm=a2a0e.searchlist.list.7.7ea8287diNVN5g&search=1'\n",
        "driver=webdriver.Chrome(r\"C:\\Users\\chromedriver.exe\")\n",
        "driver.get(url)"
      ]
    },
    {
      "cell_type": "code",
      "execution_count": null,
      "metadata": {
        "id": "LHPakOHLSVwR"
      },
      "outputs": [],
      "source": [
        "Name=[]\n",
        "ReviewText=[]\n",
        "allt=driver.find_element(\"id\", \"container\")\n",
        "from selenium.webdriver.common.action_chains import ActionChains\n",
        "actions = ActionChains(driver)"
      ]
    },
    {
      "cell_type": "code",
      "execution_count": null,
      "metadata": {
        "id": "Jk62-7C3SVwR"
      },
      "outputs": [],
      "source": [
        "# reviews= allt.find_element(By.CLASS_NAME,\"mod-reviews\").find_elements(By.CLASS_NAME, \"item\")"
      ]
    },
    {
      "cell_type": "code",
      "execution_count": null,
      "metadata": {
        "id": "JaDGEgztSVwR"
      },
      "outputs": [],
      "source": [
        "# for review in reviews:\n",
        "#     Name.append(review.find_element(By.CLASS_NAME, \"middle\").text.strip('Verified Purchase').strip('by'))\n",
        "#     ReviewText.append(review.find_element(By.CLASS_NAME, \"content\").text)\n",
        "\n"
      ]
    },
    {
      "cell_type": "code",
      "execution_count": null,
      "metadata": {
        "id": "3i-qthmmSVwR"
      },
      "outputs": [],
      "source": [
        "from selenium.webdriver.common.action_chains import ActionChains\n",
        "actions = ActionChains(driver)"
      ]
    },
    {
      "cell_type": "code",
      "execution_count": null,
      "metadata": {
        "id": "Ld9l87nHSVwS"
      },
      "outputs": [],
      "source": [
        "# #click not intrested\n",
        "# notintrested=allt.find_element(By.XPATH, '/html/body/div[7]//div/div/div[3]/button[1]')\n",
        "# notintrested.click()\n",
        "driver.execute_script('window.scroll(0,1500)')\n",
        "time.sleep(2)\n",
        "nextpage= allt.find_element(By.XPATH, \"/html/body/div[4]/div/div[9]/div[1]/div[2]/div/div/div/div[3]/div[2]/div/button[2]\")\n",
        "time.sleep(3)\n",
        "for i in range(3):\n",
        "    driver.execute_script('window.scroll(0,2000)')\n",
        "    time.sleep(2)\n",
        "    reviews= allt.find_element(By.CLASS_NAME,\"mod-reviews\").find_elements(By.CLASS_NAME, \"item\")\n",
        "    for review in reviews:\n",
        "        try:\n",
        "            Name.append(review.find_element(By.CLASS_NAME, \"middle\").text.strip('Verified Purchase').strip('by'))\n",
        "        except:\n",
        "            Name.append(\"-\")\n",
        "        try:\n",
        "            ReviewText.append(review.find_element(By.CLASS_NAME, \"content\").text)\n",
        "        except:\n",
        "            ReviewText.append(\"-\")\n",
        "    #scrll to the next\n",
        "    actions.move_to_element(nextpage).perform()\n",
        "    time.sleep(3)\n",
        "    allt.find_element(By.XPATH, \"/html/body/div[4]/div/div[9]/div[1]/div[2]/div/div/div/div[3]/div[2]/div/button[2]\").click()"
      ]
    },
    {
      "cell_type": "code",
      "execution_count": null,
      "metadata": {
        "id": "IOfIlBqHSVwS"
      },
      "outputs": [],
      "source": [
        "rev={}\n",
        "rev[\"Name\"]=Name\n",
        "rev[\"Review text\"]=ReviewText\n",
        "frame=pd.DataFrame.from_dict(rev)"
      ]
    },
    {
      "cell_type": "code",
      "execution_count": null,
      "metadata": {
        "id": "o5HCr_DmSVwT",
        "outputId": "8072ef9c-bc5e-4132-e4e8-3f8a32e763c0"
      },
      "outputs": [
        {
          "data": {
            "text/html": [
              "<div>\n",
              "<style scoped>\n",
              "    .dataframe tbody tr th:only-of-type {\n",
              "        vertical-align: middle;\n",
              "    }\n",
              "\n",
              "    .dataframe tbody tr th {\n",
              "        vertical-align: top;\n",
              "    }\n",
              "\n",
              "    .dataframe thead th {\n",
              "        text-align: right;\n",
              "    }\n",
              "</style>\n",
              "<table border=\"1\" class=\"dataframe\">\n",
              "  <thead>\n",
              "    <tr style=\"text-align: right;\">\n",
              "      <th></th>\n",
              "      <th>Name</th>\n",
              "      <th>Review text</th>\n",
              "    </tr>\n",
              "  </thead>\n",
              "  <tbody>\n",
              "    <tr>\n",
              "      <th>0</th>\n",
              "      <td>Talal A.</td>\n",
              "      <td>bht zbrdrst hai same too same ju pic me thaaa ...</td>\n",
              "    </tr>\n",
              "    <tr>\n",
              "      <th>1</th>\n",
              "      <td>SAQLAIN J.</td>\n",
              "      <td>wah kya BAAT hai yarr both pyaara hai cover 🥰🥰...</td>\n",
              "    </tr>\n",
              "    <tr>\n",
              "      <th>2</th>\n",
              "      <td>3***8</td>\n",
              "      <td>salam daraz jb bi apse mobile cover magwaya hn...</td>\n",
              "    </tr>\n",
              "    <tr>\n",
              "      <th>3</th>\n",
              "      <td>3***7</td>\n",
              "      <td>Cover is so nice.. Same as it was shown. Nice ...</td>\n",
              "    </tr>\n",
              "    <tr>\n",
              "      <th>4</th>\n",
              "      <td>Moin A.</td>\n",
              "      <td>bhht hi acha cover h takreebn 1 month bd mila ...</td>\n",
              "    </tr>\n",
              "    <tr>\n",
              "      <th>5</th>\n",
              "      <td>*******546</td>\n",
              "      <td>very beautiful product😍\\nand quality is good 💯</td>\n",
              "    </tr>\n",
              "    <tr>\n",
              "      <th>6</th>\n",
              "      <td>0***2</td>\n",
              "      <td>Ya dykh lay upr say Kya how hai</td>\n",
              "    </tr>\n",
              "    <tr>\n",
              "      <th>7</th>\n",
              "      <td>Sulaimanjan</td>\n",
              "      <td>Thank you very much, I will lay it out, may Go...</td>\n",
              "    </tr>\n",
              "    <tr>\n",
              "      <th>8</th>\n",
              "      <td>Diya C.</td>\n",
              "      <td>Dnt buy ds cover..its Dhoka..</td>\n",
              "    </tr>\n",
              "    <tr>\n",
              "      <th>9</th>\n",
              "      <td>Saleem S.</td>\n",
              "      <td>Best quality and most adorable\\nhighly recomme...</td>\n",
              "    </tr>\n",
              "    <tr>\n",
              "      <th>10</th>\n",
              "      <td>Abbas R.</td>\n",
              "      <td>10/8 rating</td>\n",
              "    </tr>\n",
              "    <tr>\n",
              "      <th>11</th>\n",
              "      <td>*******918</td>\n",
              "      <td>this mobile cover is awesome and beautiful</td>\n",
              "    </tr>\n",
              "    <tr>\n",
              "      <th>12</th>\n",
              "      <td>Ehtisham A.</td>\n",
              "      <td>Mashallah boht acha piece nikla thanks sir</td>\n",
              "    </tr>\n",
              "    <tr>\n",
              "      <th>13</th>\n",
              "      <td>0***3</td>\n",
              "      <td>Nice cover billkul fit Aya hai jazakallah</td>\n",
              "    </tr>\n",
              "    <tr>\n",
              "      <th>14</th>\n",
              "      <td>****9</td>\n",
              "      <td>i like it very much</td>\n",
              "    </tr>\n",
              "  </tbody>\n",
              "</table>\n",
              "</div>"
            ],
            "text/plain": [
              "            Name                                        Review text\n",
              "0       Talal A.  bht zbrdrst hai same too same ju pic me thaaa ...\n",
              "1     SAQLAIN J.  wah kya BAAT hai yarr both pyaara hai cover 🥰🥰...\n",
              "2          3***8  salam daraz jb bi apse mobile cover magwaya hn...\n",
              "3          3***7  Cover is so nice.. Same as it was shown. Nice ...\n",
              "4        Moin A.  bhht hi acha cover h takreebn 1 month bd mila ...\n",
              "5     *******546     very beautiful product😍\\nand quality is good 💯\n",
              "6          0***2                   Ya dykh lay upr say Kya how hai \n",
              "7    Sulaimanjan  Thank you very much, I will lay it out, may Go...\n",
              "8        Diya C.                      Dnt buy ds cover..its Dhoka..\n",
              "9      Saleem S.  Best quality and most adorable\\nhighly recomme...\n",
              "10      Abbas R.                                       10/8 rating \n",
              "11    *******918        this mobile cover is awesome and beautiful \n",
              "12   Ehtisham A.         Mashallah boht acha piece nikla thanks sir\n",
              "13         0***3          Nice cover billkul fit Aya hai jazakallah\n",
              "14         ****9                                i like it very much"
            ]
          },
          "execution_count": 105,
          "metadata": {},
          "output_type": "execute_result"
        }
      ],
      "source": [
        "#Output\n",
        "frame"
      ]
    },
    {
      "cell_type": "markdown",
      "metadata": {
        "id": "JeOACpybSVwT"
      },
      "source": [
        "### Question 1 Part b  (10 marks)"
      ]
    },
    {
      "cell_type": "markdown",
      "metadata": {
        "id": "vfVKNU00SVwT"
      },
      "source": [
        "Clean the Reviews using NLTK,RE. Remove Punctuations, Smilies and other garbage using any library.\n",
        "\n",
        "Apply Vader Sentiment to find the sentiment of the review, and append it in a column named \"Sentiment\".\n",
        "\n",
        "You can get help of Vader sentiment from this; https://towardsdatascience.com/sentimental-analysis-using-vader-a3415fef7664"
      ]
    },
    {
      "cell_type": "code",
      "execution_count": null,
      "metadata": {
        "id": "y7WDMmvmSVwU",
        "outputId": "b72e7bee-baa4-433e-fe8c-153888287848"
      },
      "outputs": [
        {
          "name": "stderr",
          "output_type": "stream",
          "text": [
            "[nltk_data] Downloading package punkt to\n",
            "[nltk_data]     C:\\Users\\user\\AppData\\Roaming\\nltk_data...\n",
            "[nltk_data]   Package punkt is already up-to-date!\n"
          ]
        }
      ],
      "source": [
        "import nltk\n",
        "import string\n",
        "nltk.download('punkt')\n",
        "# !pip install emoji\n",
        "import emoji\n",
        "import re"
      ]
    },
    {
      "cell_type": "code",
      "execution_count": null,
      "metadata": {
        "id": "3XdVl3fNSVwU"
      },
      "outputs": [],
      "source": [
        "import re\n",
        "def remove_emoji(text):\n",
        "    emojis = re.compile(\"[\"  u\"\\U0001F1E0-\\U0001F1FF\" u\"\\U000024C2-\\U0001F251\" u\"\\U0001f926-\\U0001f937\"\n",
        "                               u\"\\u3030\" u\"\\U00010000-\\U0010ffff\" u\"\\U00002500-\\U00002BEF\"\n",
        "                               u\"\\u200d\" u\"\\u23cf\" u\"\\u23e9\" u\"\\u231a\" u\"\\U00002702-\\U000027B0\"\n",
        "                               u\"\\U0001F600-\\U0001F64F\" u\"\\U0001F300-\\U0001F5FF\"\n",
        "                               u\"\\U0001F680-\\U0001F6FF\" u\"\\U00002702-\\U000027B0\"\n",
        "                               u\"\\u2640-\\u2642\" u\"\\u2600-\\u2B55\" u\"\\ufe0f\"  \"]+\", flags=re.UNICODE)\n",
        "    val=emojis.sub(r'', text)\n",
        "    return val"
      ]
    },
    {
      "cell_type": "code",
      "execution_count": null,
      "metadata": {
        "id": "PvgVqRzlSVwU"
      },
      "outputs": [],
      "source": [
        "#for review column\n",
        "ReviewList=frame[\"Review text\"].astype(\"str\").tolist()\n",
        "final=[]\n",
        "for i in ReviewList:\n",
        "    test=remove_emoji(i)\n",
        "    Review_tokens = nltk.word_tokenize(test.lower())\n",
        "    test=[]\n",
        "\n",
        "    for i in Review_tokens:\n",
        "        if (i in string.punctuation):\n",
        "            x=-1\n",
        "        else:\n",
        "            test.append(i)\n",
        "\n",
        "    Review_tokens=test\n",
        "    final.append(\" \".join(Review_tokens))\n",
        "ReviewList=final\n",
        "\n",
        "#for name column\n",
        "nameList=frame[\"Name\"].astype(\"str\").tolist()\n",
        "final2=[]\n",
        "for i in nameList:\n",
        "    test=remove_emoji(i)\n",
        "    name_tokens = nltk.word_tokenize(test.lower())\n",
        "    test=[]\n",
        "\n",
        "    for i in name_tokens:\n",
        "        if (i in string.punctuation):\n",
        "            x=-1\n",
        "        else:\n",
        "            test.append(i)\n",
        "\n",
        "    name_tokens=test\n",
        "    final2.append(\" \".join(name_tokens))\n",
        "nameList=final2"
      ]
    },
    {
      "cell_type": "code",
      "execution_count": null,
      "metadata": {
        "id": "UPZMtKALSVwV"
      },
      "outputs": [],
      "source": [
        "check=frame\n",
        "check[\"Name\"]=nameList\n",
        "check[\"Review text\"]=ReviewList"
      ]
    },
    {
      "cell_type": "code",
      "execution_count": null,
      "metadata": {
        "id": "V-adZGBtSVwV",
        "outputId": "49fe4722-9ee5-4bd4-a72f-9ec9017f8343"
      },
      "outputs": [
        {
          "data": {
            "text/html": [
              "<div>\n",
              "<style scoped>\n",
              "    .dataframe tbody tr th:only-of-type {\n",
              "        vertical-align: middle;\n",
              "    }\n",
              "\n",
              "    .dataframe tbody tr th {\n",
              "        vertical-align: top;\n",
              "    }\n",
              "\n",
              "    .dataframe thead th {\n",
              "        text-align: right;\n",
              "    }\n",
              "</style>\n",
              "<table border=\"1\" class=\"dataframe\">\n",
              "  <thead>\n",
              "    <tr style=\"text-align: right;\">\n",
              "      <th></th>\n",
              "      <th>Name</th>\n",
              "      <th>Review text</th>\n",
              "    </tr>\n",
              "  </thead>\n",
              "  <tbody>\n",
              "    <tr>\n",
              "      <th>0</th>\n",
              "      <td>talal a</td>\n",
              "      <td>bht zbrdrst hai same too same ju pic me thaaa ...</td>\n",
              "    </tr>\n",
              "    <tr>\n",
              "      <th>1</th>\n",
              "      <td>saqlain j</td>\n",
              "      <td>wah kya baat hai yarr both pyaara hai cover bu...</td>\n",
              "    </tr>\n",
              "    <tr>\n",
              "      <th>2</th>\n",
              "      <td>3 8</td>\n",
              "      <td>salam daraz jb bi apse mobile cover magwaya hn...</td>\n",
              "    </tr>\n",
              "    <tr>\n",
              "      <th>3</th>\n",
              "      <td>3 7</td>\n",
              "      <td>cover is so nice .. same as it was shown nice ...</td>\n",
              "    </tr>\n",
              "    <tr>\n",
              "      <th>4</th>\n",
              "      <td>moin a</td>\n",
              "      <td>bhht hi acha cover h takreebn 1 month bd mila ...</td>\n",
              "    </tr>\n",
              "    <tr>\n",
              "      <th>5</th>\n",
              "      <td>546</td>\n",
              "      <td>very beautiful product and quality is good</td>\n",
              "    </tr>\n",
              "    <tr>\n",
              "      <th>6</th>\n",
              "      <td>0 2</td>\n",
              "      <td>ya dykh lay upr say kya how hai</td>\n",
              "    </tr>\n",
              "    <tr>\n",
              "      <th>7</th>\n",
              "      <td>sulaimanjan</td>\n",
              "      <td>thank you very much i will lay it out may god ...</td>\n",
              "    </tr>\n",
              "    <tr>\n",
              "      <th>8</th>\n",
              "      <td>diya c</td>\n",
              "      <td>dnt buy ds cover .. its dhoka ..</td>\n",
              "    </tr>\n",
              "    <tr>\n",
              "      <th>9</th>\n",
              "      <td>saleem s</td>\n",
              "      <td>best quality and most adorable highly recommended</td>\n",
              "    </tr>\n",
              "    <tr>\n",
              "      <th>10</th>\n",
              "      <td>abbas r</td>\n",
              "      <td>10/8 rating</td>\n",
              "    </tr>\n",
              "    <tr>\n",
              "      <th>11</th>\n",
              "      <td>918</td>\n",
              "      <td>this mobile cover is awesome and beautiful</td>\n",
              "    </tr>\n",
              "    <tr>\n",
              "      <th>12</th>\n",
              "      <td>ehtisham a</td>\n",
              "      <td>mashallah boht acha piece nikla thanks sir</td>\n",
              "    </tr>\n",
              "    <tr>\n",
              "      <th>13</th>\n",
              "      <td>0 3</td>\n",
              "      <td>nice cover billkul fit aya hai jazakallah</td>\n",
              "    </tr>\n",
              "    <tr>\n",
              "      <th>14</th>\n",
              "      <td>9</td>\n",
              "      <td>i like it very much</td>\n",
              "    </tr>\n",
              "  </tbody>\n",
              "</table>\n",
              "</div>"
            ],
            "text/plain": [
              "           Name                                        Review text\n",
              "0       talal a  bht zbrdrst hai same too same ju pic me thaaa ...\n",
              "1     saqlain j  wah kya baat hai yarr both pyaara hai cover bu...\n",
              "2           3 8  salam daraz jb bi apse mobile cover magwaya hn...\n",
              "3           3 7  cover is so nice .. same as it was shown nice ...\n",
              "4        moin a  bhht hi acha cover h takreebn 1 month bd mila ...\n",
              "5           546         very beautiful product and quality is good\n",
              "6           0 2                    ya dykh lay upr say kya how hai\n",
              "7   sulaimanjan  thank you very much i will lay it out may god ...\n",
              "8        diya c                   dnt buy ds cover .. its dhoka ..\n",
              "9      saleem s  best quality and most adorable highly recommended\n",
              "10      abbas r                                        10/8 rating\n",
              "11          918         this mobile cover is awesome and beautiful\n",
              "12   ehtisham a         mashallah boht acha piece nikla thanks sir\n",
              "13          0 3          nice cover billkul fit aya hai jazakallah\n",
              "14            9                                i like it very much"
            ]
          },
          "execution_count": 111,
          "metadata": {},
          "output_type": "execute_result"
        }
      ],
      "source": [
        "check"
      ]
    },
    {
      "cell_type": "code",
      "execution_count": null,
      "metadata": {
        "id": "AaGfff7XSVwV",
        "outputId": "0d14d57b-2830-4fd1-8058-1db14223e714"
      },
      "outputs": [
        {
          "name": "stderr",
          "output_type": "stream",
          "text": [
            "[nltk_data] Downloading package vader_lexicon to\n",
            "[nltk_data]     C:\\Users\\user\\AppData\\Roaming\\nltk_data...\n",
            "[nltk_data]   Package vader_lexicon is already up-to-date!\n"
          ]
        }
      ],
      "source": [
        "df=frame\n",
        "import nltk\n",
        "nltk.download('vader_lexicon')\n",
        "from nltk.sentiment.vader import SentimentIntensityAnalyzer\n",
        "sid = SentimentIntensityAnalyzer()\n",
        "df['scores'] = df['Review text'].apply(lambda rev: sid.polarity_scores(rev))\n",
        "df['compound']  = df['scores'].apply(lambda score_dict: score_dict['compound'])\n",
        "df['Sentiment'] = df['compound'].apply(lambda c: 'negative' if c <0 else 'positive')\n",
        "frame=frame[[\"Name\", \"Review text\", 'Sentiment']]"
      ]
    },
    {
      "cell_type": "code",
      "execution_count": null,
      "metadata": {
        "id": "Rn_EEXhmSVwV",
        "outputId": "9c5be94f-9ff7-406b-b7cf-c692d6ce5345"
      },
      "outputs": [
        {
          "data": {
            "text/html": [
              "<div>\n",
              "<style scoped>\n",
              "    .dataframe tbody tr th:only-of-type {\n",
              "        vertical-align: middle;\n",
              "    }\n",
              "\n",
              "    .dataframe tbody tr th {\n",
              "        vertical-align: top;\n",
              "    }\n",
              "\n",
              "    .dataframe thead th {\n",
              "        text-align: right;\n",
              "    }\n",
              "</style>\n",
              "<table border=\"1\" class=\"dataframe\">\n",
              "  <thead>\n",
              "    <tr style=\"text-align: right;\">\n",
              "      <th></th>\n",
              "      <th>Name</th>\n",
              "      <th>Review text</th>\n",
              "      <th>Sentiment</th>\n",
              "    </tr>\n",
              "  </thead>\n",
              "  <tbody>\n",
              "    <tr>\n",
              "      <th>0</th>\n",
              "      <td>talal a</td>\n",
              "      <td>bht zbrdrst hai same too same ju pic me thaaa ...</td>\n",
              "      <td>positive</td>\n",
              "    </tr>\n",
              "    <tr>\n",
              "      <th>1</th>\n",
              "      <td>saqlain j</td>\n",
              "      <td>wah kya baat hai yarr both pyaara hai cover bu...</td>\n",
              "      <td>negative</td>\n",
              "    </tr>\n",
              "    <tr>\n",
              "      <th>2</th>\n",
              "      <td>3 8</td>\n",
              "      <td>salam daraz jb bi apse mobile cover magwaya hn...</td>\n",
              "      <td>negative</td>\n",
              "    </tr>\n",
              "    <tr>\n",
              "      <th>3</th>\n",
              "      <td>3 7</td>\n",
              "      <td>cover is so nice .. same as it was shown nice ...</td>\n",
              "      <td>positive</td>\n",
              "    </tr>\n",
              "    <tr>\n",
              "      <th>4</th>\n",
              "      <td>moin a</td>\n",
              "      <td>bhht hi acha cover h takreebn 1 month bd mila ...</td>\n",
              "      <td>positive</td>\n",
              "    </tr>\n",
              "    <tr>\n",
              "      <th>5</th>\n",
              "      <td>546</td>\n",
              "      <td>very beautiful product and quality is good</td>\n",
              "      <td>positive</td>\n",
              "    </tr>\n",
              "    <tr>\n",
              "      <th>6</th>\n",
              "      <td>0 2</td>\n",
              "      <td>ya dykh lay upr say kya how hai</td>\n",
              "      <td>positive</td>\n",
              "    </tr>\n",
              "    <tr>\n",
              "      <th>7</th>\n",
              "      <td>sulaimanjan</td>\n",
              "      <td>thank you very much i will lay it out may god ...</td>\n",
              "      <td>positive</td>\n",
              "    </tr>\n",
              "    <tr>\n",
              "      <th>8</th>\n",
              "      <td>diya c</td>\n",
              "      <td>dnt buy ds cover .. its dhoka ..</td>\n",
              "      <td>positive</td>\n",
              "    </tr>\n",
              "    <tr>\n",
              "      <th>9</th>\n",
              "      <td>saleem s</td>\n",
              "      <td>best quality and most adorable highly recommended</td>\n",
              "      <td>positive</td>\n",
              "    </tr>\n",
              "    <tr>\n",
              "      <th>10</th>\n",
              "      <td>abbas r</td>\n",
              "      <td>10/8 rating</td>\n",
              "      <td>positive</td>\n",
              "    </tr>\n",
              "    <tr>\n",
              "      <th>11</th>\n",
              "      <td>918</td>\n",
              "      <td>this mobile cover is awesome and beautiful</td>\n",
              "      <td>positive</td>\n",
              "    </tr>\n",
              "    <tr>\n",
              "      <th>12</th>\n",
              "      <td>ehtisham a</td>\n",
              "      <td>mashallah boht acha piece nikla thanks sir</td>\n",
              "      <td>positive</td>\n",
              "    </tr>\n",
              "    <tr>\n",
              "      <th>13</th>\n",
              "      <td>0 3</td>\n",
              "      <td>nice cover billkul fit aya hai jazakallah</td>\n",
              "      <td>positive</td>\n",
              "    </tr>\n",
              "    <tr>\n",
              "      <th>14</th>\n",
              "      <td>9</td>\n",
              "      <td>i like it very much</td>\n",
              "      <td>positive</td>\n",
              "    </tr>\n",
              "  </tbody>\n",
              "</table>\n",
              "</div>"
            ],
            "text/plain": [
              "           Name                                        Review text Sentiment\n",
              "0       talal a  bht zbrdrst hai same too same ju pic me thaaa ...  positive\n",
              "1     saqlain j  wah kya baat hai yarr both pyaara hai cover bu...  negative\n",
              "2           3 8  salam daraz jb bi apse mobile cover magwaya hn...  negative\n",
              "3           3 7  cover is so nice .. same as it was shown nice ...  positive\n",
              "4        moin a  bhht hi acha cover h takreebn 1 month bd mila ...  positive\n",
              "5           546         very beautiful product and quality is good  positive\n",
              "6           0 2                    ya dykh lay upr say kya how hai  positive\n",
              "7   sulaimanjan  thank you very much i will lay it out may god ...  positive\n",
              "8        diya c                   dnt buy ds cover .. its dhoka ..  positive\n",
              "9      saleem s  best quality and most adorable highly recommended  positive\n",
              "10      abbas r                                        10/8 rating  positive\n",
              "11          918         this mobile cover is awesome and beautiful  positive\n",
              "12   ehtisham a         mashallah boht acha piece nikla thanks sir  positive\n",
              "13          0 3          nice cover billkul fit aya hai jazakallah  positive\n",
              "14            9                                i like it very much  positive"
            ]
          },
          "execution_count": 122,
          "metadata": {},
          "output_type": "execute_result"
        }
      ],
      "source": [
        "frame"
      ]
    },
    {
      "cell_type": "markdown",
      "metadata": {
        "id": "HoaRepQOSVwW"
      },
      "source": [
        "# Question 2   (20 marks)"
      ]
    },
    {
      "cell_type": "markdown",
      "metadata": {
        "id": "Bs0G9EhvSVwW"
      },
      "source": [
        "Scrape 80 items for a keyword search e.g., 'mobile covers'<br/>Note: Must use \"click()\" function of webElement, URL changing for pages is not allowed. The code must be generic and should work for every keyword, with proper checks in place. Bonus for also scraping country and Daraz Mall availability."
      ]
    },
    {
      "cell_type": "code",
      "execution_count": null,
      "metadata": {
        "id": "j5YWNCnXSVwW",
        "outputId": "09128a0d-f56e-4d98-9ad7-6fa8bd08d97a"
      },
      "outputs": [
        {
          "name": "stdout",
          "output_type": "stream",
          "text": [
            "https://www.daraz.pk/catalog/?q=mobile+covers&_keyori=ss&from=input&spm=a2a0e.home.search.go.35e34937ThhB5W\n"
          ]
        }
      ],
      "source": [
        "query = 'mobile covers'\n",
        "query = query.replace(' ', '+')\n",
        "url = f'https://www.daraz.pk/catalog/?q={query}&_keyori=ss&from=input&spm=a2a0e.home.search.go.35e34937ThhB5W'.format(query)\n",
        "print(url)"
      ]
    },
    {
      "cell_type": "code",
      "execution_count": null,
      "metadata": {
        "id": "PkhswXsMSVwW",
        "outputId": "9c25fe60-3d7d-49cc-bed9-a741d2c4362e"
      },
      "outputs": [
        {
          "name": "stderr",
          "output_type": "stream",
          "text": [
            "C:\\Users\\user\\AppData\\Local\\Temp\\ipykernel_22584\\3220673672.py:1: DeprecationWarning: executable_path has been deprecated, please pass in a Service object\n",
            "  driver=webdriver.Chrome(r\"C:\\Users\\chromedriver.exe\")\n"
          ]
        }
      ],
      "source": [
        "driver=webdriver.Chrome(r\"C:\\Users\\chromedriver.exe\")\n",
        "driver.get(url)"
      ]
    },
    {
      "cell_type": "code",
      "execution_count": null,
      "metadata": {
        "id": "X5NdMVQPSVwX"
      },
      "outputs": [],
      "source": [
        "Name=[]\n",
        "Price=[]\n",
        "Stars=[]\n",
        "Reviews=[]\n",
        "Location=[]\n",
        "DarazMall=[]\n",
        "Rating=[]\n"
      ]
    },
    {
      "cell_type": "code",
      "execution_count": null,
      "metadata": {
        "id": "YX9xNP45SVwX",
        "outputId": "33cd2b87-2036-4b6c-d85e-49def3bd96f2"
      },
      "outputs": [
        {
          "name": "stdout",
          "output_type": "stream",
          "text": [
            "\n"
          ]
        }
      ],
      "source": [
        "for i in range(2):\n",
        "    time.sleep(5)\n",
        "    products= driver.find_element(By.CLASS_NAME, \"box--ujueT\").find_elements(By.CLASS_NAME, \"gridItem--Yd0sa\")\n",
        "    driver.execute_script('window.scroll(0,100)')\n",
        "    time.sleep(1)\n",
        "    for product in products:\n",
        "        Name.append(product.find_element(By.CLASS_NAME, \"title--wFj93\").text)\n",
        "        Price.append(product.find_element(By.CLASS_NAME, \"price--NVB62\").text)\n",
        "\n",
        "        location=product.find_element(By.CLASS_NAME, \"location--eh0Ro \").text\n",
        "        if(location!='Free Shipping'):\n",
        "            Location.append(location)\n",
        "        else:\n",
        "            Location.append('overseas')\n",
        "\n",
        "        try:\n",
        "            check=product.find_elements(\"tag name\", \"i\")\n",
        "            if(len(check)>5):\n",
        "                DarazMall.append(True)\n",
        "            else:\n",
        "                DarazMall.append(False)\n",
        "        except:\n",
        "            DarazMall.append(False)\n",
        "        #daraz mall\n",
        "#         try:\n",
        "#             mall=page.find_element(By.XPATH, \"/html/body/div[3]/div/div[2]/div/div/div[1]/div[3]/div[1]/div/div/div[2]/div[1]/i\")\n",
        "#             DarazMall.append(\"Daraz Mall\")\n",
        "#         except:\n",
        "#             DarazMall.append(\"Private\")\n",
        "\n",
        "\n",
        "        result=''\n",
        "        rating=0\n",
        "        ratings= product.find_elements(By.CLASS_NAME, \"star-icon--k88DV\")\n",
        "        for star in ratings:\n",
        "            try:\n",
        "                result= star.get_attribute('class').replace('star-icon--k88DV star-', '').replace('--UQtQk', '').replace('--lQLaV', '')\n",
        "                result=result.replace('--hM0en','').replace('--ezGMb', '').replace('--yMyuX', '').replace('--hXNSC', '').replace('--fBIsH', '').replace('--UNNG4', '')\n",
        "                result= result\n",
        "                rating= (int(rating) + int(result))\n",
        "            except:\n",
        "                print(\"\")\n",
        "        rating=rating/10\n",
        "        Rating.append(rating)\n",
        "\n",
        "    driver.execute_script('window.scroll(100,4500)')\n",
        "    time.sleep(3)\n",
        "    driver.find_element(By.XPATH, \"/html/body/div[3]/div/div[2]/div/div/div[1]/div[3]/div/ul/li[9]/a\").click()\n"
      ]
    },
    {
      "cell_type": "code",
      "execution_count": null,
      "metadata": {
        "id": "0j9RkbQXSVwX",
        "outputId": "76948620-0703-4945-841d-0d8061a7c5cb"
      },
      "outputs": [
        {
          "name": "stdout",
          "output_type": "stream",
          "text": [
            "\n"
          ]
        }
      ],
      "source": []
    },
    {
      "cell_type": "code",
      "execution_count": null,
      "metadata": {
        "id": "GlcEg6JDSVwY"
      },
      "outputs": [],
      "source": [
        "dict={}\n",
        "dict[\"Name\"]=Name\n",
        "dict[\"Price\"]=Price\n",
        "# dict[\"Reviews\"]=Reviews\n",
        "dict[\"Location\"]=Location\n",
        "dict[\"DarazMall\"]=DarazMall\n",
        "dict[\"Rating\"]=Rating\n",
        "\n",
        "\n",
        "df=pd.DataFrame.from_dict(dict)"
      ]
    },
    {
      "cell_type": "code",
      "execution_count": null,
      "metadata": {
        "id": "2m1Ti4t9SVwY",
        "outputId": "8abbc15a-60d7-4aba-81bc-510f053e47f8"
      },
      "outputs": [
        {
          "data": {
            "text/html": [
              "<div>\n",
              "<style scoped>\n",
              "    .dataframe tbody tr th:only-of-type {\n",
              "        vertical-align: middle;\n",
              "    }\n",
              "\n",
              "    .dataframe tbody tr th {\n",
              "        vertical-align: top;\n",
              "    }\n",
              "\n",
              "    .dataframe thead th {\n",
              "        text-align: right;\n",
              "    }\n",
              "</style>\n",
              "<table border=\"1\" class=\"dataframe\">\n",
              "  <thead>\n",
              "    <tr style=\"text-align: right;\">\n",
              "      <th></th>\n",
              "      <th>Name</th>\n",
              "      <th>Price</th>\n",
              "      <th>Location</th>\n",
              "      <th>DarazMall</th>\n",
              "      <th>Rating</th>\n",
              "    </tr>\n",
              "  </thead>\n",
              "  <tbody>\n",
              "    <tr>\n",
              "      <th>0</th>\n",
              "      <td>Hontinga for Xiaomi Redmi 10 Back Cover Luxury...</td>\n",
              "      <td>Rs. 524</td>\n",
              "      <td>overseas</td>\n",
              "      <td>True</td>\n",
              "      <td>4.8</td>\n",
              "    </tr>\n",
              "    <tr>\n",
              "      <th>1</th>\n",
              "      <td>Lenuo Phone Case for Samsung Galaxy A7 2018 Si...</td>\n",
              "      <td>Rs. 669</td>\n",
              "      <td>overseas</td>\n",
              "      <td>True</td>\n",
              "      <td>4.9</td>\n",
              "    </tr>\n",
              "    <tr>\n",
              "      <th>2</th>\n",
              "      <td>Sixonic Universal Water Proof Rain Proof Under...</td>\n",
              "      <td>Rs. 95</td>\n",
              "      <td>overseas</td>\n",
              "      <td>True</td>\n",
              "      <td>4.5</td>\n",
              "    </tr>\n",
              "    <tr>\n",
              "      <th>3</th>\n",
              "      <td>Samsung Galaxy A32 4G , Full Protection Vinyl ...</td>\n",
              "      <td>Rs. 92</td>\n",
              "      <td>Pakistan</td>\n",
              "      <td>False</td>\n",
              "      <td>4.7</td>\n",
              "    </tr>\n",
              "    <tr>\n",
              "      <th>4</th>\n",
              "      <td>Google Pixel 4 XL , Full Back Protection Sheet...</td>\n",
              "      <td>Rs. 92</td>\n",
              "      <td>Pakistan</td>\n",
              "      <td>False</td>\n",
              "      <td>4.4</td>\n",
              "    </tr>\n",
              "    <tr>\n",
              "      <th>...</th>\n",
              "      <td>...</td>\n",
              "      <td>...</td>\n",
              "      <td>...</td>\n",
              "      <td>...</td>\n",
              "      <td>...</td>\n",
              "    </tr>\n",
              "    <tr>\n",
              "      <th>75</th>\n",
              "      <td>Hontinga for Infinix Hot 10S Back Cover Luxury...</td>\n",
              "      <td>Rs. 445</td>\n",
              "      <td>overseas</td>\n",
              "      <td>True</td>\n",
              "      <td>4.6</td>\n",
              "    </tr>\n",
              "    <tr>\n",
              "      <th>76</th>\n",
              "      <td>For Huawei Y9 2019 Back Cover with Hand Strap ...</td>\n",
              "      <td>Rs. 533</td>\n",
              "      <td>overseas</td>\n",
              "      <td>True</td>\n",
              "      <td>5.0</td>\n",
              "    </tr>\n",
              "    <tr>\n",
              "      <th>77</th>\n",
              "      <td>Samsung Galaxy C7 ShockProof AirBag Anti-Burst...</td>\n",
              "      <td>Rs. 123</td>\n",
              "      <td>overseas</td>\n",
              "      <td>True</td>\n",
              "      <td>4.7</td>\n",
              "    </tr>\n",
              "    <tr>\n",
              "      <th>78</th>\n",
              "      <td>Lenuo Phone Case for vivo V19 Silicone PC Meta...</td>\n",
              "      <td>Rs. 669</td>\n",
              "      <td>overseas</td>\n",
              "      <td>True</td>\n",
              "      <td>4.8</td>\n",
              "    </tr>\n",
              "    <tr>\n",
              "      <th>79</th>\n",
              "      <td>Hontinga for Vivo V11I Case Luxury 6D Plating ...</td>\n",
              "      <td>Rs. 506</td>\n",
              "      <td>overseas</td>\n",
              "      <td>True</td>\n",
              "      <td>4.5</td>\n",
              "    </tr>\n",
              "  </tbody>\n",
              "</table>\n",
              "<p>80 rows × 5 columns</p>\n",
              "</div>"
            ],
            "text/plain": [
              "                                                 Name    Price  Location  \\\n",
              "0   Hontinga for Xiaomi Redmi 10 Back Cover Luxury...  Rs. 524  overseas   \n",
              "1   Lenuo Phone Case for Samsung Galaxy A7 2018 Si...  Rs. 669  overseas   \n",
              "2   Sixonic Universal Water Proof Rain Proof Under...   Rs. 95  overseas   \n",
              "3   Samsung Galaxy A32 4G , Full Protection Vinyl ...   Rs. 92  Pakistan   \n",
              "4   Google Pixel 4 XL , Full Back Protection Sheet...   Rs. 92  Pakistan   \n",
              "..                                                ...      ...       ...   \n",
              "75  Hontinga for Infinix Hot 10S Back Cover Luxury...  Rs. 445  overseas   \n",
              "76  For Huawei Y9 2019 Back Cover with Hand Strap ...  Rs. 533  overseas   \n",
              "77  Samsung Galaxy C7 ShockProof AirBag Anti-Burst...  Rs. 123  overseas   \n",
              "78  Lenuo Phone Case for vivo V19 Silicone PC Meta...  Rs. 669  overseas   \n",
              "79  Hontinga for Vivo V11I Case Luxury 6D Plating ...  Rs. 506  overseas   \n",
              "\n",
              "    DarazMall  Rating  \n",
              "0        True     4.8  \n",
              "1        True     4.9  \n",
              "2        True     4.5  \n",
              "3       False     4.7  \n",
              "4       False     4.4  \n",
              "..        ...     ...  \n",
              "75       True     4.6  \n",
              "76       True     5.0  \n",
              "77       True     4.7  \n",
              "78       True     4.8  \n",
              "79       True     4.5  \n",
              "\n",
              "[80 rows x 5 columns]"
            ]
          },
          "execution_count": 214,
          "metadata": {},
          "output_type": "execute_result"
        }
      ],
      "source": [
        "#Output\n",
        "df"
      ]
    },
    {
      "cell_type": "raw",
      "metadata": {
        "id": "yGkRQFbrSVwY"
      },
      "source": [
        "# Question 3  (30 marks)"
      ]
    },
    {
      "cell_type": "markdown",
      "metadata": {
        "id": "Z6vEnq0LSVwZ"
      },
      "source": [
        "# <!-- Which Products are on Flash sale? Display Product name, Actual Price, Discounted Price, Discount Percentage, Rating, No. of Reviews, Top 3 reviews displayed.\n",
        "\n",
        "Display output must be like this. Products may vary. -->\n",
        "\n",
        "If a user wants to make a store to sell something, lets say \"Mobile Covers\". He/She wants to see folowing things:\n",
        "1. Top 10 Sellers store names\n",
        "    2. Daraz Mall Store/ Private store\n",
        "    3. Total \"Mobile Covers\" listings on his store\n",
        "    4. Avg Prices\n",
        "5. Avg Units selling\n",
        "6. Positive Seller Ratings\n",
        "    7. Seller Country"
      ]
    },
    {
      "cell_type": "code",
      "execution_count": null,
      "metadata": {
        "id": "SZxZovR2SVwZ",
        "outputId": "bd425bc1-a005-4238-b6d1-1b75424583f7"
      },
      "outputs": [
        {
          "data": {
            "text/html": [
              "<div>\n",
              "<style scoped>\n",
              "    .dataframe tbody tr th:only-of-type {\n",
              "        vertical-align: middle;\n",
              "    }\n",
              "\n",
              "    .dataframe tbody tr th {\n",
              "        vertical-align: top;\n",
              "    }\n",
              "\n",
              "    .dataframe thead th {\n",
              "        text-align: right;\n",
              "    }\n",
              "</style>\n",
              "<table border=\"1\" class=\"dataframe\">\n",
              "  <thead>\n",
              "    <tr style=\"text-align: right;\">\n",
              "      <th></th>\n",
              "      <th>Store Name</th>\n",
              "      <th>Daraz Mall/Private</th>\n",
              "      <th>Avg Price</th>\n",
              "      <th>Listings</th>\n",
              "      <th>Avg unit selling</th>\n",
              "      <th>Seller Ratings</th>\n",
              "      <th>Country</th>\n",
              "      <th>Followers</th>\n",
              "    </tr>\n",
              "  </thead>\n",
              "  <tbody>\n",
              "    <tr>\n",
              "      <th>0</th>\n",
              "      <td>Hontinga</td>\n",
              "      <td>Daraz Mall</td>\n",
              "      <td>565</td>\n",
              "      <td>187414</td>\n",
              "      <td>110</td>\n",
              "      <td>93</td>\n",
              "      <td>Overseas</td>\n",
              "      <td>29919</td>\n",
              "    </tr>\n",
              "    <tr>\n",
              "      <th>1</th>\n",
              "      <td>ABC MOBILE ACCESSORIES STORE ( FAISALABAD )</td>\n",
              "      <td>Private</td>\n",
              "      <td>95</td>\n",
              "      <td>438</td>\n",
              "      <td>29</td>\n",
              "      <td>93</td>\n",
              "      <td>Pakistan</td>\n",
              "      <td>11969</td>\n",
              "    </tr>\n",
              "  </tbody>\n",
              "</table>\n",
              "</div>"
            ],
            "text/plain": [
              "                                    Store Name Daraz Mall/Private  Avg Price  \\\n",
              "0                                     Hontinga         Daraz Mall        565   \n",
              "1  ABC MOBILE ACCESSORIES STORE ( FAISALABAD )            Private         95   \n",
              "\n",
              "   Listings  Avg unit selling  Seller Ratings   Country  Followers  \n",
              "0    187414               110              93  Overseas      29919  \n",
              "1       438                29              93  Pakistan      11969  "
            ]
          },
          "execution_count": 1,
          "metadata": {},
          "output_type": "execute_result"
        }
      ],
      "source": [
        "#Run this cell to see the sample output\n",
        "import pandas as pd\n",
        "pd.read_csv('output.csv')"
      ]
    },
    {
      "cell_type": "code",
      "execution_count": null,
      "metadata": {
        "id": "tGCZkTIwSVwZ",
        "outputId": "19a2fbe2-8dce-4741-b522-2d30ffdc1131"
      },
      "outputs": [
        {
          "name": "stderr",
          "output_type": "stream",
          "text": [
            "C:\\Users\\user\\AppData\\Local\\Temp\\ipykernel_22584\\1440170348.py:4: DeprecationWarning: executable_path has been deprecated, please pass in a Service object\n",
            "  driver=webdriver.Chrome(r\"C:\\Users\\chromedriver.exe\")\n"
          ]
        }
      ],
      "source": [
        "query = 'mobile covers'\n",
        "query = query.replace(' ', '+')\n",
        "url = f'https://www.daraz.pk/catalog/?q={query}&_keyori=ss&from=input&spm=a2a0e.home.search.go.35e34937ThhB5W'.format(query)\n",
        "driver=webdriver.Chrome(r\"C:\\Users\\chromedriver.exe\")\n",
        "driver.get(url)"
      ]
    },
    {
      "cell_type": "code",
      "execution_count": null,
      "metadata": {
        "id": "f4AMsdi6SVwZ"
      },
      "outputs": [],
      "source": []
    },
    {
      "cell_type": "code",
      "execution_count": null,
      "metadata": {
        "id": "54BC11X2SVwa"
      },
      "outputs": [],
      "source": []
    },
    {
      "cell_type": "code",
      "execution_count": null,
      "metadata": {
        "id": "DsV0sbMASVwa"
      },
      "outputs": [],
      "source": [
        "container= driver.find_element(By.XPATH, \"/html/body/div[3]/div/div[2]/div/div/div[2]/div/div[2]/div[2]/div/div[1]\")\n",
        "brands=container.find_elements(By.TAG_NAME, \"label\")"
      ]
    },
    {
      "cell_type": "code",
      "execution_count": null,
      "metadata": {
        "id": "gui0RGoZSVwp"
      },
      "outputs": [],
      "source": []
    },
    {
      "cell_type": "code",
      "execution_count": null,
      "metadata": {
        "id": "fpoXZpBISVwp"
      },
      "outputs": [],
      "source": [
        "brands_list=[]\n",
        "listings=[]\n",
        "daraz_mall=[]\n",
        "country_list=[]\n",
        "avg_price=[]\n",
        "for i in range(len(brands)):\n",
        "    driver.execute_script('window.scroll(0,200)')\n",
        "    viewmore= driver.find_elements(By.CLASS_NAME, \"expandable__more--KsqPe\")\n",
        "    viewmore[1].click()\n",
        "\n",
        "    brands=container.find_elements(By.TAG_NAME, \"label\")\n",
        "    brand=brands[i]\n",
        "\n",
        "    brands_list.append(brand.text)\n",
        "    brand.find_element(By.CLASS_NAME, \"ant-checkbox\").click()  #items of specific brand\n",
        "    time.sleep(5) #wait for loading\n",
        "\n",
        "    driver.execute_script('window.scroll(0,10)')\n",
        "    page=driver.find_element(By.CLASS_NAME, \"box--LNmE6\")\n",
        "\n",
        "    #listing numbers\n",
        "    items_num=page.find_element(By.XPATH, \"/html/body/div[3]/div/div[2]/div/div/div[1]/div[1]/div/div[1]/div/div/span[1]\").text\n",
        "    listings.append(items_num.replace(' items found for \"', ''))\n",
        "\n",
        "    #daraz mall\n",
        "    try:\n",
        "        mall=page.find_element(By.XPATH, \"/html/body/div[3]/div/div[2]/div/div/div[1]/div[3]/div[1]/div/div/div[2]/div[1]/i\")\n",
        "        daraz_mall.append(\"Daraz Mall\")\n",
        "    except:\n",
        "        daraz_mall.append(\"Private\")\n",
        "\n",
        "    country\n",
        "    driver.execute_script('window.scroll(0,200)')\n",
        "    country= page.find_element(By.XPATH, \"/html/body/div[3]/div/div[2]/div/div/div[1]/div[3]/div[1]/div/div/div[2]/div[5]/span\")\n",
        "    if(country.text==\"Free Shipping\"):\n",
        "        country_list.append(\"Overseas\")\n",
        "    else:\n",
        "        country_list.append(country.text)\n",
        "\n",
        "    #average price\n",
        "    driver.execute_script('window.scroll(0,60)')\n",
        "    page.find_element(By.XPATH, \"/html/body/div[3]/div/div[2]/div/div/div[1]/div[1]/div/div[2]/div/div[2]/div/div/span\").click()\n",
        "    page.find_element(By.XPATH, \"/html/body/div[8]/div/div/div/ul/li[2]\").click()\n",
        "    driver.execute_script('window.scroll(0,60)')\n",
        "    time.sleep(3)\n",
        "\n",
        "    lowprice=page.find_element(By.XPATH, \"/html/body/div[3]/div/div[2]/div/div/div[1]/div[3]/div[1]/div/div/div[2]/div[3]\").text.replace(\"Rs. \", '')\n",
        "\n",
        "    page.find_element(By.XPATH, \"/html/body/div[3]/div/div[2]/div/div/div[1]/div[1]/div/div[2]/div/div[2]/div/div/span\").click()\n",
        "    page.find_element(By.XPATH, \"/html/body/div[8]/div/div/div/ul/li[3]\").click()\n",
        "    driver.execute_script('window.scroll(0,60)')\n",
        "    time.sleep(3)\n",
        "\n",
        "    highprice=page.find_element(By.XPATH, \"/html/body/div[3]/div/div[2]/div/div/div[1]/div[3]/div[1]/div/div/div[2]/div[3]\").text.replace(\"Rs. \", '').replace(',','')\n",
        "\n",
        "    avg_price.append((int(highprice)+int(lowprice))/2)\n",
        "    driver.back()\n",
        "    time.sleep(1)\n",
        "    driver.back()\n",
        "    time.sleep(1)\n",
        "    driver.back()\n",
        "    time.sleep(5)\n",
        "\n",
        "\n",
        "\n",
        "\n",
        ""
      ]
    },
    {
      "cell_type": "code",
      "execution_count": null,
      "metadata": {
        "id": "UqObhjdQSVwq",
        "outputId": "a89e0a7a-8308-4010-ad20-6946d3d1746b"
      },
      "outputs": [
        {
          "data": {
            "text/plain": [
              "int"
            ]
          },
          "execution_count": 178,
          "metadata": {},
          "output_type": "execute_result"
        }
      ],
      "source": [
        "number=[]\n",
        "for i in listings:\n",
        "    number.append(int(i))\n",
        "\n",
        "listings=[]\n",
        "listings=number"
      ]
    },
    {
      "cell_type": "code",
      "execution_count": null,
      "metadata": {
        "id": "YfsvgS09SVwq"
      },
      "outputs": [],
      "source": [
        "dict={}\n",
        "dict[\"Store\"]=brands_list\n",
        "dict[\"DarazMall/Private\"]=daraz_mall\n",
        "dict[\"Country\"]=country_list\n",
        "dict[\"Listings\"]=listings\n",
        "dict[\"Avg Price\"]=avg_price\n",
        "df=pd.DataFrame.from_dict(dict)"
      ]
    },
    {
      "cell_type": "code",
      "execution_count": null,
      "metadata": {
        "id": "3Jl1goFNSVwr",
        "outputId": "24b1a937-b2a7-486f-c56f-4049426296da"
      },
      "outputs": [
        {
          "data": {
            "text/html": [
              "<div>\n",
              "<style scoped>\n",
              "    .dataframe tbody tr th:only-of-type {\n",
              "        vertical-align: middle;\n",
              "    }\n",
              "\n",
              "    .dataframe tbody tr th {\n",
              "        vertical-align: top;\n",
              "    }\n",
              "\n",
              "    .dataframe thead th {\n",
              "        text-align: right;\n",
              "    }\n",
              "</style>\n",
              "<table border=\"1\" class=\"dataframe\">\n",
              "  <thead>\n",
              "    <tr style=\"text-align: right;\">\n",
              "      <th></th>\n",
              "      <th>Store</th>\n",
              "      <th>DarazMall/Private</th>\n",
              "      <th>Country</th>\n",
              "      <th>Listings</th>\n",
              "      <th>Avg Price</th>\n",
              "    </tr>\n",
              "  </thead>\n",
              "  <tbody>\n",
              "    <tr>\n",
              "      <th>8</th>\n",
              "      <td>Leweisi</td>\n",
              "      <td>Daraz Mall</td>\n",
              "      <td>Overseas</td>\n",
              "      <td>464204</td>\n",
              "      <td>569.5</td>\n",
              "    </tr>\n",
              "    <tr>\n",
              "      <th>0</th>\n",
              "      <td>Hontinga</td>\n",
              "      <td>Daraz Mall</td>\n",
              "      <td>Overseas</td>\n",
              "      <td>188968</td>\n",
              "      <td>597.0</td>\n",
              "    </tr>\n",
              "    <tr>\n",
              "      <th>2</th>\n",
              "      <td>UCUC</td>\n",
              "      <td>Daraz Mall</td>\n",
              "      <td>Overseas</td>\n",
              "      <td>64513</td>\n",
              "      <td>703.0</td>\n",
              "    </tr>\n",
              "    <tr>\n",
              "      <th>1</th>\n",
              "      <td>Jizetin</td>\n",
              "      <td>Daraz Mall</td>\n",
              "      <td>China</td>\n",
              "      <td>57860</td>\n",
              "      <td>595.5</td>\n",
              "    </tr>\n",
              "    <tr>\n",
              "      <th>3</th>\n",
              "      <td>FELMYST</td>\n",
              "      <td>Daraz Mall</td>\n",
              "      <td>China</td>\n",
              "      <td>55036</td>\n",
              "      <td>1099.0</td>\n",
              "    </tr>\n",
              "    <tr>\n",
              "      <th>4</th>\n",
              "      <td>LENUO</td>\n",
              "      <td>Daraz Mall</td>\n",
              "      <td>Overseas</td>\n",
              "      <td>4714</td>\n",
              "      <td>874.0</td>\n",
              "    </tr>\n",
              "    <tr>\n",
              "      <th>5</th>\n",
              "      <td>Lereach</td>\n",
              "      <td>Daraz Mall</td>\n",
              "      <td>Overseas</td>\n",
              "      <td>2986</td>\n",
              "      <td>1058.5</td>\n",
              "    </tr>\n",
              "    <tr>\n",
              "      <th>7</th>\n",
              "      <td>SGP Hybrid</td>\n",
              "      <td>Daraz Mall</td>\n",
              "      <td>Overseas</td>\n",
              "      <td>270</td>\n",
              "      <td>863.0</td>\n",
              "    </tr>\n",
              "    <tr>\n",
              "      <th>9</th>\n",
              "      <td>Nillkin</td>\n",
              "      <td>Daraz Mall</td>\n",
              "      <td>Overseas</td>\n",
              "      <td>259</td>\n",
              "      <td>1545.0</td>\n",
              "    </tr>\n",
              "    <tr>\n",
              "      <th>10</th>\n",
              "      <td>Mizuma</td>\n",
              "      <td>Private</td>\n",
              "      <td>Pakistan</td>\n",
              "      <td>25</td>\n",
              "      <td>306.5</td>\n",
              "    </tr>\n",
              "  </tbody>\n",
              "</table>\n",
              "</div>"
            ],
            "text/plain": [
              "         Store DarazMall/Private   Country  Listings  Avg Price\n",
              "8      Leweisi        Daraz Mall  Overseas    464204      569.5\n",
              "0     Hontinga        Daraz Mall  Overseas    188968      597.0\n",
              "2         UCUC        Daraz Mall  Overseas     64513      703.0\n",
              "1      Jizetin        Daraz Mall     China     57860      595.5\n",
              "3      FELMYST        Daraz Mall     China     55036     1099.0\n",
              "4        LENUO        Daraz Mall  Overseas      4714      874.0\n",
              "5      Lereach        Daraz Mall  Overseas      2986     1058.5\n",
              "7   SGP Hybrid        Daraz Mall  Overseas       270      863.0\n",
              "9      Nillkin        Daraz Mall  Overseas       259     1545.0\n",
              "10      Mizuma           Private  Pakistan        25      306.5"
            ]
          },
          "execution_count": 188,
          "metadata": {},
          "output_type": "execute_result"
        }
      ],
      "source": [
        "df.sort_values(\"Listings\", axis = 0, ascending = False, inplace=True)\n",
        "\n",
        "#top 10 sellers\n",
        "df.loc[:10]"
      ]
    },
    {
      "cell_type": "code",
      "execution_count": null,
      "metadata": {
        "id": "DazT5yR1SVwr"
      },
      "outputs": [],
      "source": []
    },
    {
      "cell_type": "code",
      "execution_count": null,
      "metadata": {
        "id": "k7bKagPaSVwr"
      },
      "outputs": [],
      "source": []
    }
  ],
  "metadata": {
    "kernelspec": {
      "display_name": "Python 3 (ipykernel)",
      "language": "python",
      "name": "python3"
    },
    "language_info": {
      "codemirror_mode": {
        "name": "ipython",
        "version": 3
      },
      "file_extension": ".py",
      "mimetype": "text/x-python",
      "name": "python",
      "nbconvert_exporter": "python",
      "pygments_lexer": "ipython3",
      "version": "3.9.12"
    },
    "colab": {
      "provenance": []
    }
  },
  "nbformat": 4,
  "nbformat_minor": 0
}