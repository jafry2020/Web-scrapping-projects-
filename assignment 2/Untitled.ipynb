{
 "cells": [
  {
   "cell_type": "code",
   "execution_count": 88,
   "id": "2bd9a938-9915-406d-bb00-bdeef82183fb",
   "metadata": {
    "editable": false,
    "slideshow": {
     "slide_type": ""
    },
    "tags": []
   },
   "outputs": [],
   "source": [
    "#import libraries\n",
    "import time\n",
    "import os \n",
    "from IPython.display import clear_output\n",
    "import pandas as pd\n",
    "import re\n",
    "import string\n",
    "from selenium import webdriver\n",
    "from selenium.webdriver.edge.options import Options\n",
    "from selenium.webdriver.common.keys import Keys\n",
    "from selenium.webdriver.common.by import By\n",
    "from selenium.common.exceptions import NoSuchElementException"
   ]
  },
  {
   "cell_type": "code",
   "execution_count": 95,
   "id": "cad75ff5-95b7-4906-b486-95eda7841394",
   "metadata": {
    "editable": false,
    "slideshow": {
     "slide_type": ""
    },
    "tags": []
   },
   "outputs": [],
   "source": [
    "option = Options()\n",
    "option.headless = True\n",
    "driver = webdriver.Edge(options=option)\n",
    "driver.get(\"https://www.rekhta.org/poets\")"
   ]
  },
  {
   "cell_type": "code",
   "execution_count": 130,
   "id": "270a7d57-a148-4b67-be3b-481b5cd28ee2",
   "metadata": {},
   "outputs": [],
   "source": [
    "cities = [\"pakistan\", \"Lahore\", \"Faisalabad\", \"Rawalpindi\", \"Multan\", \"Gujranwala\", \"Hyderabad\", \"Peshawar\", \"Islamabad\", \"Quetta\"]\n",
    "for i in cities:\n",
    "    print(i)\n",
    "    clear_output()"
   ]
  },
  {
   "cell_type": "code",
   "execution_count": 131,
   "id": "433cde1b-4a0c-4b80-a2ee-3b8a28915f49",
   "metadata": {
    "editable": false,
    "slideshow": {
     "slide_type": ""
    },
    "tags": []
   },
   "outputs": [],
   "source": [
    "for city in cities:\n",
    "    driver.find_element(By.XPATH, \"/html/body/div[3]/header/div[2]/div[4]/div[1]/fieldset/form/input\").clear()\n",
    "    driver.find_element(By.XPATH, \"/html/body/div[3]/header/div[2]/div[4]/div[1]/fieldset/form/input\").send_keys(city)\n",
    "    driver.find_element(By.XPATH, \"/html/body/div[3]/header/div[2]/div[4]/div[1]/fieldset/form/input\").send_keys(Keys.RETURN)\n",
    "    driver.execute_script('window.scroll(0,200)')\n",
    "    for_each_poet()"
   ]
  },
  {
   "cell_type": "code",
   "execution_count": 124,
   "id": "1c68a03d-d966-4364-996d-a23e8d9f0516",
   "metadata": {
    "editable": false,
    "slideshow": {
     "slide_type": ""
    },
    "tags": []
   },
   "outputs": [],
   "source": [
    "def for_each_poet():\n",
    "    try:\n",
    "        poet_container = driver.find_element(By.XPATH, \"/html/body/div[3]/div[2]/div/div/div/div/div/div[4]/div[1]/div/div\")\n",
    "        poets = poet_container.find_elements(By.CLASS_NAME, \"searchPoetsList\")\n",
    "        \n",
    "        names = []\n",
    "        for poet in poets:\n",
    "            poems_of_a_single_poet = []\n",
    "            poems = []\n",
    "            name = poet.find_element(By.CLASS_NAME, \"searchPrsName\").text\n",
    "            poet.click()\n",
    "            driver.execute_script('window.scroll(0,500)')\n",
    "            driver.find_element(By.CLASS_NAME, \"readFullBgBtn\").click()\n",
    "            driver.execute_script('window.scroll(0,200)')\n",
    "        \n",
    "            time.sleep(1)\n",
    "            pems = driver.find_element(By.XPATH, '/html/body/div[3]/div[3]/div/div/div[2]/div/div[2]')\n",
    "            pems = pems.find_element(By.XPATH, '/html/body/div[3]/div[3]/div/div/div[2]/div/div[2]/div[4]')\n",
    "            driver.execute_script('window.scroll(0,100)')\n",
    "            \n",
    "            poems = []\n",
    "            for i in pems.find_elements(By.TAG_NAME, \"div\"):\n",
    "                if(i.text): #if div tag is a poem\n",
    "                    poems.append(i)\n",
    "            \n",
    "            for poem in poems:\n",
    "                try:\n",
    "                    poem.click()\n",
    "                    time.sleep(1)\n",
    "                    nazam = driver.find_element(By.XPATH, \"/html/body/div[3]/div[2]/div/div/div[2]/div[1]\").text #extracting text(poem)\n",
    "                    temp.append(nazam)\n",
    "                    driver.back()\n",
    "                except Exception as e:\n",
    "                    driver.execute_script('window.scroll(0,500)')\n",
    "            \n",
    "            break\n",
    "            driver.back()\n",
    "    except Exception as e:\n",
    "        driver.find_element(By.CLASS_NAME, \"/html/body/div/div/div/a[2]\").click()"
   ]
  },
  {
   "cell_type": "code",
   "execution_count": 94,
   "id": "1744e372-6144-4d55-9f5c-8960f7b6333b",
   "metadata": {},
   "outputs": [],
   "source": [
    "driver.quit()"
   ]
  },
  {
   "cell_type": "code",
   "execution_count": 98,
   "id": "537888af-2465-4f8c-8752-c1fd87fe3a2e",
   "metadata": {},
   "outputs": [],
   "source": [
    "driver.execute_script('window.scroll(0,400)')"
   ]
  },
  {
   "cell_type": "code",
   "execution_count": 86,
   "id": "98a91e0c-90c0-46f9-afe6-170ef423d768",
   "metadata": {},
   "outputs": [],
   "source": [
    "driver.execute_script('window.scroll(0,100)')\n",
    "poems = []\n",
    "for i in pems.find_elements(By.TAG_NAME, \"div\"):\n",
    "    if(i.text): #if div tag is a poem\n",
    "        poems.append(i)\n",
    "\n",
    "for poem in poems:\n",
    "    poem.click()\n",
    "    time.sleep(2)\n",
    "    nazam = driver.find_element(By.XPATH, \"/html/body/div[3]/div[2]/div/div/div[2]/div[1]\").text\n",
    "    driver.back()"
   ]
  },
  {
   "cell_type": "code",
   "execution_count": null,
   "id": "00f1ed3d-57cf-4898-8343-0fbe51f4c5c3",
   "metadata": {},
   "outputs": [],
   "source": []
  }
 ],
 "metadata": {
  "kernelspec": {
   "display_name": "Python 3 (ipykernel)",
   "language": "python",
   "name": "python3"
  },
  "language_info": {
   "codemirror_mode": {
    "name": "ipython",
    "version": 3
   },
   "file_extension": ".py",
   "mimetype": "text/x-python",
   "name": "python",
   "nbconvert_exporter": "python",
   "pygments_lexer": "ipython3",
   "version": "3.12.2"
  }
 },
 "nbformat": 4,
 "nbformat_minor": 5
}
